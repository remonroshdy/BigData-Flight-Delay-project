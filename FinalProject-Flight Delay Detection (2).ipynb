{
 "cells": [
  {
   "cell_type": "code",
   "execution_count": 1,
   "id": "d9038233",
   "metadata": {},
   "outputs": [
    {
     "name": "stderr",
     "output_type": "stream",
     "text": [
      "WARNING: An illegal reflective access operation has occurred\n",
      "WARNING: Illegal reflective access by org.apache.spark.unsafe.Platform (file:/opt/conda/envs/bigdata/lib/python3.8/site-packages/pyspark/jars/spark-unsafe_2.12-3.2.1.jar) to constructor java.nio.DirectByteBuffer(long,int)\n",
      "WARNING: Please consider reporting this to the maintainers of org.apache.spark.unsafe.Platform\n",
      "WARNING: Use --illegal-access=warn to enable warnings of further illegal reflective access operations\n",
      "WARNING: All illegal access operations will be denied in a future release\n",
      "Using Spark's default log4j profile: org/apache/spark/log4j-defaults.properties\n",
      "Setting default log level to \"WARN\".\n",
      "To adjust logging level use sc.setLogLevel(newLevel). For SparkR, use setLogLevel(newLevel).\n",
      "22/05/16 21:05:32 WARN NativeCodeLoader: Unable to load native-hadoop library for your platform... using builtin-java classes where applicable\n",
      "/opt/conda/envs/bigdata/lib/python3.8/site-packages/pyspark/sql/context.py:125: FutureWarning: Deprecated in 3.0.0. Use SparkSession.builder.getOrCreate() instead.\n",
      "  warnings.warn(\n"
     ]
    }
   ],
   "source": [
    "import os\n",
    "import pyspark\n",
    "conf = pyspark.SparkConf()\n",
    "\n",
    "conf.set('spark.ui.proxyBase', '/user/' + os.environ['JUPYTERHUB_USER'] + '/proxy/4041')\n",
    "conf.set('spark.sql.repl.eagerEval.enabled', True)\n",
    "conf.set('spark.driver.memory','7g')\n",
    "sc = pyspark.SparkContext(conf=conf)\n",
    "\n",
    "spark = pyspark.SQLContext.getOrCreate(sc)"
   ]
  },
  {
   "cell_type": "markdown",
   "id": "61fa543b",
   "metadata": {},
   "source": [
    "# Goal is to predict the Arrival Delay of flights \n"
   ]
  },
  {
   "cell_type": "code",
   "execution_count": 2,
   "id": "95d3bbdc",
   "metadata": {
    "scrolled": true
   },
   "outputs": [
    {
     "name": "stderr",
     "output_type": "stream",
     "text": [
      "[Stage 1:=============================>                             (1 + 1) / 2]\r"
     ]
    },
    {
     "name": "stdout",
     "output_type": "stream",
     "text": [
      "root\n",
      " |-- Year: integer (nullable = true)\n",
      " |-- Month: integer (nullable = true)\n",
      " |-- DayofMonth: integer (nullable = true)\n",
      " |-- DayOfWeek: integer (nullable = true)\n",
      " |-- DepTime: integer (nullable = true)\n",
      " |-- CRSDepTime: integer (nullable = true)\n",
      " |-- ArrTime: integer (nullable = true)\n",
      " |-- CRSArrTime: integer (nullable = true)\n",
      " |-- UniqueCarrier: string (nullable = true)\n",
      " |-- FlightNum: integer (nullable = true)\n",
      " |-- TailNum: string (nullable = true)\n",
      " |-- ActualElapsedTime: integer (nullable = true)\n",
      " |-- CRSElapsedTime: integer (nullable = true)\n",
      " |-- AirTime: integer (nullable = true)\n",
      " |-- ArrDelay: integer (nullable = true)\n",
      " |-- DepDelay: integer (nullable = true)\n",
      " |-- Origin: string (nullable = true)\n",
      " |-- Dest: string (nullable = true)\n",
      " |-- Distance: integer (nullable = true)\n",
      " |-- TaxiIn: integer (nullable = true)\n",
      " |-- TaxiOut: integer (nullable = true)\n",
      " |-- Cancelled: integer (nullable = true)\n",
      " |-- CancellationCode: string (nullable = true)\n",
      " |-- Diverted: integer (nullable = true)\n",
      " |-- CarrierDelay: integer (nullable = true)\n",
      " |-- WeatherDelay: integer (nullable = true)\n",
      " |-- NASDelay: integer (nullable = true)\n",
      " |-- SecurityDelay: integer (nullable = true)\n",
      " |-- LateAircraftDelay: integer (nullable = true)\n",
      "\n"
     ]
    },
    {
     "name": "stderr",
     "output_type": "stream",
     "text": [
      "                                                                                \r"
     ]
    }
   ],
   "source": [
    "\n",
    "# Got the DATA from DOT website \n",
    "# Reading the Data  CSV file \n",
    "# NOTE   null value in the file is NA so thats why we pass it down here \n",
    "\n",
    "import pyspark\n",
    "df = spark.read.csv(\"2008.csv.bz2\", header=True, inferSchema=True, nullValue='NA')\n",
    "df.printSchema()\n",
    "\n",
    " "
   ]
  },
  {
   "cell_type": "code",
   "execution_count": 8,
   "id": "a82d44fc",
   "metadata": {},
   "outputs": [
    {
     "name": "stdout",
     "output_type": "stream",
     "text": [
      "+----+-----+----------+---------+-------+----------+-------+----------+-------------+---------+-------+-----------------+--------------+-------+--------+--------+------+----+--------+------+-------+---------+----------------+--------+------------+------------+--------+-------------+-----------------+\n",
      "|Year|Month|DayofMonth|DayOfWeek|DepTime|CRSDepTime|ArrTime|CRSArrTime|UniqueCarrier|FlightNum|TailNum|ActualElapsedTime|CRSElapsedTime|AirTime|ArrDelay|DepDelay|Origin|Dest|Distance|TaxiIn|TaxiOut|Cancelled|CancellationCode|Diverted|CarrierDelay|WeatherDelay|NASDelay|SecurityDelay|LateAircraftDelay|\n",
      "+----+-----+----------+---------+-------+----------+-------+----------+-------------+---------+-------+-----------------+--------------+-------+--------+--------+------+----+--------+------+-------+---------+----------------+--------+------------+------------+--------+-------------+-----------------+\n",
      "|2008|    1|         3|        4|   1343|      1325|   1451|      1435|           WN|      588| N240WN|               68|            70|     55|      16|      18|   HOU| LIT|     393|     4|      9|        0|            null|       0|          16|           0|       0|            0|                0|\n",
      "|2008|    1|         3|        4|   1125|      1120|   1247|      1245|           WN|     1343| N523SW|               82|            85|     71|       2|       5|   HOU| MAF|     441|     3|      8|        0|            null|       0|        null|        null|    null|         null|             null|\n",
      "|2008|    1|         3|        4|   2009|      2015|   2136|      2140|           WN|     3841| N280WN|               87|            85|     71|      -4|      -6|   HOU| MAF|     441|     2|     14|        0|            null|       0|        null|        null|    null|         null|             null|\n",
      "|2008|    1|         3|        4|    903|       855|   1203|      1205|           WN|        3| N308SA|              120|           130|    108|      -2|       8|   HOU| MCO|     848|     5|      7|        0|            null|       0|        null|        null|    null|         null|             null|\n",
      "|2008|    1|         3|        4|   1423|      1400|   1726|      1710|           WN|       25| N462WN|              123|           130|    107|      16|      23|   HOU| MCO|     848|     6|     10|        0|            null|       0|          16|           0|       0|            0|                0|\n",
      "|2008|    1|         3|        4|   2024|      2020|   2325|      2325|           WN|       51| N483WN|              121|           125|    101|       0|       4|   HOU| MCO|     848|    13|      7|        0|            null|       0|        null|        null|    null|         null|             null|\n",
      "|2008|    1|         3|        4|   1753|      1745|   2053|      2050|           WN|      940| N493WN|              120|           125|    107|       3|       8|   HOU| MCO|     848|     6|      7|        0|            null|       0|        null|        null|    null|         null|             null|\n",
      "|2008|    1|         3|        4|    622|       620|    935|       930|           WN|     2621| N266WN|              133|           130|    107|       5|       2|   HOU| MCO|     848|     7|     19|        0|            null|       0|        null|        null|    null|         null|             null|\n",
      "|2008|    1|         3|        4|   1944|      1945|   2210|      2215|           WN|      389| N266WN|              146|           150|    124|      -5|      -1|   HOU| MDW|     937|     7|     15|        0|            null|       0|        null|        null|    null|         null|             null|\n",
      "|2008|    1|         3|        4|   1453|      1425|   1716|      1650|           WN|      519| N514SW|              143|           145|    124|      26|      28|   HOU| MDW|     937|     6|     13|        0|            null|       0|          11|           0|       0|            0|               15|\n",
      "|2008|    1|         3|        4|   2030|      2015|   2251|      2245|           WN|      894| N716SW|              141|           150|    122|       6|      15|   HOU| MDW|     937|    11|      8|        0|            null|       0|        null|        null|    null|         null|             null|\n",
      "|2008|    1|         3|        4|    708|       615|    936|       840|           WN|      969| N215WN|              148|           145|    128|      56|      53|   HOU| MDW|     937|    10|     10|        0|            null|       0|          53|           0|       3|            0|                0|\n",
      "|2008|    1|         3|        4|   1749|      1730|   2039|      2000|           WN|     2174| N623SW|              170|           150|    128|      39|      19|   HOU| MDW|     937|    34|      8|        0|            null|       0|          10|           0|      20|            0|                9|\n",
      "|2008|    1|         3|        4|   1217|      1215|   1431|      1440|           WN|     2445| N651SW|              134|           145|    124|      -9|       2|   HOU| MDW|     937|     4|      6|        0|            null|       0|        null|        null|    null|         null|             null|\n",
      "|2008|    1|         3|        4|    954|       940|   1206|      1205|           WN|     2974| N447WN|              132|           145|    120|       1|      14|   HOU| MDW|     937|     5|      7|        0|            null|       0|        null|        null|    null|         null|             null|\n",
      "|2008|    1|         3|        4|   1758|      1800|   1854|      1900|           WN|       41| N240WN|               56|            60|     45|      -6|      -2|   HOU| MSY|     303|     3|      8|        0|            null|       0|        null|        null|    null|         null|             null|\n",
      "|2008|    1|         3|        4|   2210|      2120|   2305|      2215|           WN|       78| N268WN|               55|            55|     44|      50|      50|   HOU| MSY|     303|     3|      8|        0|            null|       0|           6|           0|       0|            0|               44|\n",
      "|2008|    1|         3|        4|    740|       740|    836|       840|           WN|      311| N504SW|               56|            60|     45|      -4|       0|   HOU| MSY|     303|     3|      8|        0|            null|       0|        null|        null|    null|         null|             null|\n",
      "|2008|    1|         3|        4|   1011|      1005|   1116|      1105|           WN|      521| N332SW|               65|            60|     49|      11|       6|   HOU| MSY|     303|     4|     12|        0|            null|       0|        null|        null|    null|         null|             null|\n",
      "|2008|    1|         3|        4|   1612|      1520|   1707|      1620|           WN|      714| N305SW|               55|            60|     44|      47|      52|   HOU| MSY|     303|     4|      7|        0|            null|       0|           0|           0|       0|            0|               47|\n",
      "+----+-----+----------+---------+-------+----------+-------+----------+-------------+---------+-------+-----------------+--------------+-------+--------+--------+------+----+--------+------+-------+---------+----------------+--------+------------+------------+--------+-------------+-----------------+\n",
      "only showing top 20 rows\n",
      "\n"
     ]
    }
   ],
   "source": [
    "df.show(20)"
   ]
  },
  {
   "cell_type": "code",
   "execution_count": 9,
   "id": "d28fdf28",
   "metadata": {},
   "outputs": [
    {
     "name": "stderr",
     "output_type": "stream",
     "text": [
      "[Stage 8:=============================>                             (1 + 1) / 2]\r"
     ]
    },
    {
     "name": "stdout",
     "output_type": "stream",
     "text": [
      "The shape of flights_df: (2389217, 29)\n"
     ]
    },
    {
     "name": "stderr",
     "output_type": "stream",
     "text": [
      "                                                                                \r"
     ]
    }
   ],
   "source": [
    "\n",
    "shape = ((df.count(), len(df.columns)))  \n",
    "#prints the shape\n",
    "print('The shape of flights_df:', shape)"
   ]
  },
  {
   "cell_type": "code",
   "execution_count": 10,
   "id": "6320090d",
   "metadata": {},
   "outputs": [
    {
     "name": "stderr",
     "output_type": "stream",
     "text": [
      "/opt/conda/envs/bigdata/lib/python3.8/site-packages/seaborn/distributions.py:2619: FutureWarning: `distplot` is a deprecated function and will be removed in a future version. Please adapt your code to use either `displot` (a figure-level function with similar flexibility) or `histplot` (an axes-level function for histograms).\n",
      "  warnings.warn(msg, FutureWarning)\n"
     ]
    },
    {
     "data": {
      "image/png": "[encoded data removed]",
      "text/plain": [
       "<Figure size 432x288 with 1 Axes>"
      ]
     },
     "metadata": {
      "needs_background": "light"
     },
     "output_type": "display_data"
    }
   ],
   "source": [
    "import seaborn as sns\n",
    "\n",
    "\n",
    "flights_df_sample = df.sample(True, 0.5, 42)\n",
    "flights_df_sample_pandas = flights_df_sample.toPandas() #create sample for being able to create proper visualizations on the dataset\n",
    "\n",
    "#create visualizations for relevant features to understand the data\n",
    "sns.distplot(flights_df_sample_pandas['Month'])\n",
    "display()\n"
   ]
  },
  {
   "cell_type": "code",
   "execution_count": 11,
   "id": "3421c9b2",
   "metadata": {},
   "outputs": [
    {
     "name": "stderr",
     "output_type": "stream",
     "text": [
      "/opt/conda/envs/bigdata/lib/python3.8/site-packages/seaborn/distributions.py:2619: FutureWarning: `distplot` is a deprecated function and will be removed in a future version. Please adapt your code to use either `displot` (a figure-level function with similar flexibility) or `histplot` (an axes-level function for histograms).\n",
      "  warnings.warn(msg, FutureWarning)\n",
      "/opt/conda/envs/bigdata/lib/python3.8/site-packages/seaborn/distributions.py:2619: FutureWarning: `distplot` is a deprecated function and will be removed in a future version. Please adapt your code to use either `displot` (a figure-level function with similar flexibility) or `histplot` (an axes-level function for histograms).\n",
      "  warnings.warn(msg, FutureWarning)\n"
     ]
    },
    {
     "data": {
      "image/png": "[encoded data removed]",
      "text/plain": [
       "<Figure size 432x288 with 1 Axes>"
      ]
     },
     "metadata": {
      "needs_background": "light"
     },
     "output_type": "display_data"
    }
   ],
   "source": [
    "sns.distplot(flights_df_sample_pandas['DayofMonth'])\n",
    "display()\n",
    "\n",
    "\n",
    "sns.distplot(flights_df_sample_pandas['DayOfWeek'])\n",
    "display()\n",
    "\n",
    "\n",
    "flights_df_sample_pandas['UniqueCarrier'].value_counts().plot(kind='bar')\n",
    "display()"
   ]
  },
  {
   "cell_type": "markdown",
   "id": "10b09b7c",
   "metadata": {},
   "source": [
    "# Data Preparations "
   ]
  },
  {
   "cell_type": "markdown",
   "id": "ef7ed226",
   "metadata": {},
   "source": [
    "# How many  features we have"
   ]
  },
  {
   "cell_type": "code",
   "execution_count": 12,
   "id": "50590942",
   "metadata": {},
   "outputs": [
    {
     "data": {
      "text/plain": [
       "29"
      ]
     },
     "execution_count": 12,
     "metadata": {},
     "output_type": "execute_result"
    }
   ],
   "source": [
    "# we have 29 columns \n",
    "\n",
    "df.columns\n",
    "\n",
    "len(df.columns)"
   ]
  },
  {
   "cell_type": "code",
   "execution_count": null,
   "id": "91306d4e",
   "metadata": {},
   "outputs": [],
   "source": [
    "# count the number of flights in the file \n",
    "\n",
    "df.count()\n"
   ]
  },
  {
   "cell_type": "markdown",
   "id": "b1487f11",
   "metadata": {},
   "source": [
    "# Remove Duplicates "
   ]
  },
  {
   "cell_type": "code",
   "execution_count": 13,
   "id": "3dcd0685",
   "metadata": {},
   "outputs": [
    {
     "name": "stderr",
     "output_type": "stream",
     "text": [
      "                                                                                \r"
     ]
    },
    {
     "data": {
      "text/plain": [
       "2389213"
      ]
     },
     "execution_count": 13,
     "metadata": {},
     "output_type": "execute_result"
    }
   ],
   "source": [
    "\n",
    "# check if we have duplicated rows \n",
    "\n",
    "df.distinct().count()"
   ]
  },
  {
   "cell_type": "code",
   "execution_count": 14,
   "id": "3e4cd561",
   "metadata": {},
   "outputs": [
    {
     "name": "stderr",
     "output_type": "stream",
     "text": [
      "                                                                                \r"
     ]
    },
    {
     "data": {
      "text/plain": [
       "2389213"
      ]
     },
     "execution_count": 14,
     "metadata": {},
     "output_type": "execute_result"
    }
   ],
   "source": [
    "# Remove Duplicate Rows \n",
    "\n",
    "df=df.drop_duplicates()\n",
    "\n",
    "df.count()"
   ]
  },
  {
   "cell_type": "markdown",
   "id": "f197c3a1",
   "metadata": {},
   "source": []
  },
  {
   "cell_type": "markdown",
   "id": "fd81b142",
   "metadata": {},
   "source": [
    "# Delete Rows where  Delay time  is not available  [ ArrivalDelay column ] \n"
   ]
  },
  {
   "cell_type": "code",
   "execution_count": 3,
   "id": "b01c755c",
   "metadata": {},
   "outputs": [
    {
     "name": "stderr",
     "output_type": "stream",
     "text": [
      "                                                                                \r"
     ]
    },
    {
     "data": {
      "text/plain": [
       "2319121"
      ]
     },
     "execution_count": 3,
     "metadata": {},
     "output_type": "execute_result"
    }
   ],
   "source": [
    "# Delete Rows where  Delay time  is not available  [ ArrivalDelay column ] \n",
    "from pyspark.sql.functions import isnan, when, count, col\n",
    "\n",
    "df1=df.where(col('ArrDelay').isNotNull())\n",
    "\n",
    "df1.count()"
   ]
  },
  {
   "cell_type": "code",
   "execution_count": 4,
   "id": "8df37c80",
   "metadata": {},
   "outputs": [
    {
     "name": "stderr",
     "output_type": "stream",
     "text": [
      "                                                                                \r"
     ]
    },
    {
     "data": {
      "text/plain": [
       "2319121"
      ]
     },
     "execution_count": 4,
     "metadata": {},
     "output_type": "execute_result"
    }
   ],
   "source": [
    "# Delete Rows where  Delay time  is not available [ DepartureDelay column ]\n",
    "from pyspark.sql.functions import isnan, when, count, col\n",
    "\n",
    "df2=df1.where(col('DepDelay').isNotNull())\n",
    "\n",
    "df2.count()"
   ]
  },
  {
   "cell_type": "code",
   "execution_count": null,
   "id": "f84d7e1f",
   "metadata": {},
   "outputs": [],
   "source": []
  },
  {
   "cell_type": "markdown",
   "id": "c5aa376d",
   "metadata": {},
   "source": [
    "# Notice that some columns have 1 distinct value and will not make a difference in our prediction , drop columns "
   ]
  },
  {
   "cell_type": "code",
   "execution_count": 5,
   "id": "7141c3ad",
   "metadata": {},
   "outputs": [
    {
     "name": "stderr",
     "output_type": "stream",
     "text": [
      "22/05/16 20:43:47 WARN package: Truncated the string representation of a plan since it was too large. This behavior can be adjusted by setting 'spark.sql.debug.maxToStringFields'.\n",
      "                                                                                \r"
     ]
    }
   ],
   "source": [
    "\n",
    "from pyspark.sql.functions import isnan, when, count, col,countDistinct\n",
    "\n",
    "# apply countDistinct on each column\n",
    "\n",
    "col_counts = df2.agg(*(countDistinct(col(c)).alias(c) for c in df2.columns)).collect()[0].asDict()\n",
    "\n",
    "# select the cols with count=1 in an array\n",
    "cols_to_drop = [col for col in df2.columns if col_counts[col] == 1 ]\n",
    "\n",
    "# drop the selected column\n",
    "#df2=df2.drop(*cols_to_drop).show()"
   ]
  },
  {
   "cell_type": "code",
   "execution_count": 6,
   "id": "0e493024",
   "metadata": {},
   "outputs": [
    {
     "data": {
      "text/plain": [
       "['Year', 'Cancelled', 'Diverted']"
      ]
     },
     "execution_count": 6,
     "metadata": {},
     "output_type": "execute_result"
    }
   ],
   "source": [
    "# Columns have one Value  that we need to drop. \n",
    "cols_to_drop"
   ]
  },
  {
   "cell_type": "code",
   "execution_count": null,
   "id": "1170338e",
   "metadata": {},
   "outputs": [],
   "source": [
    "# column counts and its distinct values \n",
    "\n",
    "col_counts  "
   ]
  },
  {
   "cell_type": "code",
   "execution_count": 5,
   "id": "678ae4b8",
   "metadata": {},
   "outputs": [
    {
     "data": {
      "text/plain": [
       "['Month',\n",
       " 'DayofMonth',\n",
       " 'DayOfWeek',\n",
       " 'DepTime',\n",
       " 'CRSDepTime',\n",
       " 'ArrTime',\n",
       " 'CRSArrTime',\n",
       " 'UniqueCarrier',\n",
       " 'FlightNum',\n",
       " 'TailNum',\n",
       " 'ActualElapsedTime',\n",
       " 'CRSElapsedTime',\n",
       " 'AirTime',\n",
       " 'ArrDelay',\n",
       " 'DepDelay',\n",
       " 'Origin',\n",
       " 'Dest',\n",
       " 'Distance',\n",
       " 'TaxiIn',\n",
       " 'TaxiOut',\n",
       " 'CarrierDelay',\n",
       " 'WeatherDelay',\n",
       " 'NASDelay',\n",
       " 'SecurityDelay',\n",
       " 'LateAircraftDelay']"
      ]
     },
     "execution_count": 5,
     "metadata": {},
     "output_type": "execute_result"
    }
   ],
   "source": [
    "# drop columns with 1  value\n",
    "\n",
    "\n",
    "df3=df2.drop(\"Year\") \\\n",
    "                .drop(\"Cancelled\") \\\n",
    "                .drop(\"CancellationCode\") \\\n",
    "                .drop(\"Diverted\") \n",
    "\n",
    "# now we have 25 columns. \n",
    "df3.columns\n",
    "\n"
   ]
  },
  {
   "cell_type": "code",
   "execution_count": 20,
   "id": "1d6e63e6",
   "metadata": {},
   "outputs": [
    {
     "data": {
      "text/plain": [
       "25"
      ]
     },
     "execution_count": 20,
     "metadata": {},
     "output_type": "execute_result"
    }
   ],
   "source": [
    "len(df3.columns)"
   ]
  },
  {
   "cell_type": "code",
   "execution_count": null,
   "id": "a63e33ae",
   "metadata": {},
   "outputs": [],
   "source": []
  },
  {
   "cell_type": "markdown",
   "id": "a7e8dee8",
   "metadata": {},
   "source": [
    "# Our goal is to predict the Arrival Delay of flights , therefore there are some variables that are forbiden to use in our prediction since their values are only knows once the plane take off. \n",
    "\n",
    "# Drop the following columns:-\n",
    "# [ArrTime, ActualElapsedTime, AirTime,   TaxiIn,   Diverted,   CarrierDelay, WeatherDelay,   NASDelay,   SecurityDelay and LateAircraftDelay]"
   ]
  },
  {
   "cell_type": "code",
   "execution_count": 6,
   "id": "c605d0e7",
   "metadata": {},
   "outputs": [
    {
     "data": {
      "text/plain": [
       "12"
      ]
     },
     "execution_count": 6,
     "metadata": {},
     "output_type": "execute_result"
    }
   ],
   "source": [
    "df4=df3.drop(\"ActualElapsedTime\") \\\n",
    "                .drop(\"ArrTime\") \\\n",
    "                .drop(\"AirTime\") \\\n",
    "                .drop(\"TaxiIn\") \\\n",
    "                .drop(\"Diverted\") \\\n",
    "                .drop(\"CarrierDelay\") \\\n",
    "                .drop(\"WeatherDelay\") \\\n",
    "                .drop(\"NASDelay\") \\\n",
    "                .drop(\"SecurityDelay\") \\\n",
    "                .drop(\"LateAircraftDelay\") \\\n",
    "                .drop(\"FlightNum\") \\\n",
    "                .drop(\"TailNum\") \\\n",
    "                .drop(\"CRSElapsedTime\") \\\n",
    "                .drop(\"TaxiOut\") \n",
    "\n",
    "\n",
    "\n",
    "# After dropping columns  we end up with 16 features \n",
    "\n",
    "df4.columns \n",
    "len(df4.columns)   \n"
   ]
  },
  {
   "cell_type": "code",
   "execution_count": 22,
   "id": "0a5d1554",
   "metadata": {},
   "outputs": [
    {
     "name": "stdout",
     "output_type": "stream",
     "text": [
      "root\n",
      " |-- Month: integer (nullable = true)\n",
      " |-- DayofMonth: integer (nullable = true)\n",
      " |-- DayOfWeek: integer (nullable = true)\n",
      " |-- DepTime: integer (nullable = true)\n",
      " |-- CRSDepTime: integer (nullable = true)\n",
      " |-- CRSArrTime: integer (nullable = true)\n",
      " |-- UniqueCarrier: string (nullable = true)\n",
      " |-- ArrDelay: integer (nullable = true)\n",
      " |-- DepDelay: integer (nullable = true)\n",
      " |-- Origin: string (nullable = true)\n",
      " |-- Dest: string (nullable = true)\n",
      " |-- Distance: integer (nullable = true)\n",
      "\n"
     ]
    }
   ],
   "source": [
    "df4.printSchema()"
   ]
  },
  {
   "cell_type": "code",
   "execution_count": null,
   "id": "7d092aff",
   "metadata": {},
   "outputs": [],
   "source": [
    "df4"
   ]
  },
  {
   "cell_type": "markdown",
   "id": "365c5a5b",
   "metadata": {},
   "source": [
    "# Check Missing Values\n"
   ]
  },
  {
   "cell_type": "code",
   "execution_count": 23,
   "id": "20608aff",
   "metadata": {},
   "outputs": [
    {
     "name": "stderr",
     "output_type": "stream",
     "text": [
      "[Stage 44:===========================================>              (3 + 1) / 4]\r"
     ]
    },
    {
     "name": "stdout",
     "output_type": "stream",
     "text": [
      "+-----+----------+---------+-------+----------+----------+-------------+--------+--------+------+----+--------+\n",
      "|Month|DayofMonth|DayOfWeek|DepTime|CRSDepTime|CRSArrTime|UniqueCarrier|ArrDelay|DepDelay|Origin|Dest|Distance|\n",
      "+-----+----------+---------+-------+----------+----------+-------------+--------+--------+------+----+--------+\n",
      "|  0.0|       0.0|      0.0|    0.0|       0.0|       0.0|          0.0|     0.0|     0.0|   0.0| 0.0|     0.0|\n",
      "+-----+----------+---------+-------+----------+----------+-------------+--------+--------+------+----+--------+\n",
      "\n"
     ]
    },
    {
     "name": "stderr",
     "output_type": "stream",
     "text": [
      "                                                                                \r"
     ]
    }
   ],
   "source": [
    "# I am trying to check if a column has more than 25 %  of NA values i will drop the column or can replace with Mean /  average \n",
    "from pyspark.sql.functions import *\n",
    "\n",
    "amount_missing_df = df4.select([(count(when(isnan(c) | col(c).isNull(), c))/count(lit(1))).alias(c) for c in df4.columns])\n",
    "amount_missing_df.show()"
   ]
  },
  {
   "cell_type": "code",
   "execution_count": null,
   "id": "6ae371a0",
   "metadata": {},
   "outputs": [],
   "source": [
    "#amount_missing_df.select('CRSElapsedTime', 'DepTime' , 'ArrTime')"
   ]
  },
  {
   "cell_type": "code",
   "execution_count": null,
   "id": "04691235",
   "metadata": {},
   "outputs": [],
   "source": [
    "#amount_missing_df.select('CRSArrTime', 'UniqueCarrier' , 'FlightNum','TailNum')\n"
   ]
  },
  {
   "cell_type": "code",
   "execution_count": null,
   "id": "a8140736",
   "metadata": {},
   "outputs": [],
   "source": [
    "#amount_missing_df.select('ActualElapsedTime', 'CRSElapsedTime' , 'Origin','Dest', 'Distance')\n"
   ]
  },
  {
   "cell_type": "code",
   "execution_count": null,
   "id": "d82ffb9b",
   "metadata": {},
   "outputs": [],
   "source": []
  },
  {
   "cell_type": "markdown",
   "id": "2d041e2c",
   "metadata": {},
   "source": [
    "# Correlation of features/Columns  only  numeric variables\n"
   ]
  },
  {
   "cell_type": "code",
   "execution_count": null,
   "id": "5b9c763d",
   "metadata": {},
   "outputs": [],
   "source": [
    "# Correlation using Pyspark "
   ]
  },
  {
   "cell_type": "code",
   "execution_count": 24,
   "id": "273d28d3",
   "metadata": {},
   "outputs": [
    {
     "name": "stderr",
     "output_type": "stream",
     "text": [
      "                                                                                \r"
     ]
    },
    {
     "data": {
      "text/plain": [
       "0.9336708645281276"
      ]
     },
     "execution_count": 24,
     "metadata": {},
     "output_type": "execute_result"
    }
   ],
   "source": [
    "df4.stat.corr('DepDelay','ArrDelay')"
   ]
  },
  {
   "cell_type": "code",
   "execution_count": null,
   "id": "f94a200c",
   "metadata": {},
   "outputs": [],
   "source": []
  },
  {
   "cell_type": "code",
   "execution_count": null,
   "id": "b064cecd",
   "metadata": {},
   "outputs": [],
   "source": []
  },
  {
   "cell_type": "code",
   "execution_count": null,
   "id": "b4c8132b",
   "metadata": {},
   "outputs": [],
   "source": []
  },
  {
   "cell_type": "code",
   "execution_count": 9,
   "id": "1e370990",
   "metadata": {},
   "outputs": [
    {
     "name": "stderr",
     "output_type": "stream",
     "text": [
      "                                                                                \r"
     ]
    }
   ],
   "source": [
    "\n",
    "# transfering our dataframe into Panda datafram to get the correlation  Matrix \n",
    "pandasdf= df4.toPandas()\n"
   ]
  },
  {
   "cell_type": "code",
   "execution_count": 10,
   "id": "41a74636",
   "metadata": {},
   "outputs": [
    {
     "data": {
      "text/html": [
       "<div>\n",
       "<style scoped>\n",
       "    .dataframe tbody tr th:only-of-type {\n",
       "        vertical-align: middle;\n",
       "    }\n",
       "\n",
       "    .dataframe tbody tr th {\n",
       "        vertical-align: top;\n",
       "    }\n",
       "\n",
       "    .dataframe thead th {\n",
       "        text-align: right;\n",
       "    }\n",
       "</style>\n",
       "<table border=\"1\" class=\"dataframe\">\n",
       "  <thead>\n",
       "    <tr style=\"text-align: right;\">\n",
       "      <th></th>\n",
       "      <th>Month</th>\n",
       "      <th>DayofMonth</th>\n",
       "      <th>DayOfWeek</th>\n",
       "      <th>DepTime</th>\n",
       "      <th>CRSDepTime</th>\n",
       "      <th>CRSArrTime</th>\n",
       "      <th>ArrDelay</th>\n",
       "      <th>DepDelay</th>\n",
       "      <th>Distance</th>\n",
       "    </tr>\n",
       "  </thead>\n",
       "  <tbody>\n",
       "    <tr>\n",
       "      <th>Month</th>\n",
       "      <td>1.00</td>\n",
       "      <td>-0.00</td>\n",
       "      <td>-0.00</td>\n",
       "      <td>-0.01</td>\n",
       "      <td>-0.00</td>\n",
       "      <td>-0.01</td>\n",
       "      <td>-0.03</td>\n",
       "      <td>-0.03</td>\n",
       "      <td>0.00</td>\n",
       "    </tr>\n",
       "    <tr>\n",
       "      <th>DayofMonth</th>\n",
       "      <td>-0.00</td>\n",
       "      <td>1.00</td>\n",
       "      <td>-0.04</td>\n",
       "      <td>-0.00</td>\n",
       "      <td>-0.00</td>\n",
       "      <td>-0.00</td>\n",
       "      <td>-0.02</td>\n",
       "      <td>-0.02</td>\n",
       "      <td>-0.00</td>\n",
       "    </tr>\n",
       "    <tr>\n",
       "      <th>DayOfWeek</th>\n",
       "      <td>-0.00</td>\n",
       "      <td>-0.04</td>\n",
       "      <td>1.00</td>\n",
       "      <td>0.01</td>\n",
       "      <td>0.01</td>\n",
       "      <td>0.01</td>\n",
       "      <td>-0.00</td>\n",
       "      <td>0.01</td>\n",
       "      <td>0.02</td>\n",
       "    </tr>\n",
       "    <tr>\n",
       "      <th>DepTime</th>\n",
       "      <td>-0.01</td>\n",
       "      <td>-0.00</td>\n",
       "      <td>0.01</td>\n",
       "      <td>1.00</td>\n",
       "      <td>0.97</td>\n",
       "      <td>0.78</td>\n",
       "      <td>0.18</td>\n",
       "      <td>0.21</td>\n",
       "      <td>-0.02</td>\n",
       "    </tr>\n",
       "    <tr>\n",
       "      <th>CRSDepTime</th>\n",
       "      <td>-0.00</td>\n",
       "      <td>-0.00</td>\n",
       "      <td>0.01</td>\n",
       "      <td>0.97</td>\n",
       "      <td>1.00</td>\n",
       "      <td>0.78</td>\n",
       "      <td>0.11</td>\n",
       "      <td>0.13</td>\n",
       "      <td>-0.01</td>\n",
       "    </tr>\n",
       "    <tr>\n",
       "      <th>CRSArrTime</th>\n",
       "      <td>-0.01</td>\n",
       "      <td>-0.00</td>\n",
       "      <td>0.01</td>\n",
       "      <td>0.78</td>\n",
       "      <td>0.78</td>\n",
       "      <td>1.00</td>\n",
       "      <td>0.10</td>\n",
       "      <td>0.13</td>\n",
       "      <td>0.04</td>\n",
       "    </tr>\n",
       "    <tr>\n",
       "      <th>ArrDelay</th>\n",
       "      <td>-0.03</td>\n",
       "      <td>-0.02</td>\n",
       "      <td>-0.00</td>\n",
       "      <td>0.18</td>\n",
       "      <td>0.11</td>\n",
       "      <td>0.10</td>\n",
       "      <td>1.00</td>\n",
       "      <td>0.93</td>\n",
       "      <td>-0.01</td>\n",
       "    </tr>\n",
       "    <tr>\n",
       "      <th>DepDelay</th>\n",
       "      <td>-0.03</td>\n",
       "      <td>-0.02</td>\n",
       "      <td>0.01</td>\n",
       "      <td>0.21</td>\n",
       "      <td>0.13</td>\n",
       "      <td>0.13</td>\n",
       "      <td>0.93</td>\n",
       "      <td>1.00</td>\n",
       "      <td>0.02</td>\n",
       "    </tr>\n",
       "    <tr>\n",
       "      <th>Distance</th>\n",
       "      <td>0.00</td>\n",
       "      <td>-0.00</td>\n",
       "      <td>0.02</td>\n",
       "      <td>-0.02</td>\n",
       "      <td>-0.01</td>\n",
       "      <td>0.04</td>\n",
       "      <td>-0.01</td>\n",
       "      <td>0.02</td>\n",
       "      <td>1.00</td>\n",
       "    </tr>\n",
       "  </tbody>\n",
       "</table>\n",
       "</div>"
      ],
      "text/plain": [
       "            Month  DayofMonth  DayOfWeek  DepTime  CRSDepTime  CRSArrTime  \\\n",
       "Month        1.00       -0.00      -0.00    -0.01       -0.00       -0.01   \n",
       "DayofMonth  -0.00        1.00      -0.04    -0.00       -0.00       -0.00   \n",
       "DayOfWeek   -0.00       -0.04       1.00     0.01        0.01        0.01   \n",
       "DepTime     -0.01       -0.00       0.01     1.00        0.97        0.78   \n",
       "CRSDepTime  -0.00       -0.00       0.01     0.97        1.00        0.78   \n",
       "CRSArrTime  -0.01       -0.00       0.01     0.78        0.78        1.00   \n",
       "ArrDelay    -0.03       -0.02      -0.00     0.18        0.11        0.10   \n",
       "DepDelay    -0.03       -0.02       0.01     0.21        0.13        0.13   \n",
       "Distance     0.00       -0.00       0.02    -0.02       -0.01        0.04   \n",
       "\n",
       "            ArrDelay  DepDelay  Distance  \n",
       "Month          -0.03     -0.03      0.00  \n",
       "DayofMonth     -0.02     -0.02     -0.00  \n",
       "DayOfWeek      -0.00      0.01      0.02  \n",
       "DepTime         0.18      0.21     -0.02  \n",
       "CRSDepTime      0.11      0.13     -0.01  \n",
       "CRSArrTime      0.10      0.13      0.04  \n",
       "ArrDelay        1.00      0.93     -0.01  \n",
       "DepDelay        0.93      1.00      0.02  \n",
       "Distance       -0.01      0.02      1.00  "
      ]
     },
     "execution_count": 10,
     "metadata": {},
     "output_type": "execute_result"
    }
   ],
   "source": [
    "# https://datagy.io/python-correlation-matrix/\n",
    "\n",
    "matrix=pandasdf.corr().round(2)\n",
    "matrix"
   ]
  },
  {
   "cell_type": "code",
   "execution_count": 11,
   "id": "2e40bdd8",
   "metadata": {},
   "outputs": [
    {
     "data": {
      "image/png": "[encoded data removed]",
      "text/plain": [
       "<Figure size 432x288 with 2 Axes>"
      ]
     },
     "metadata": {
      "needs_background": "light"
     },
     "output_type": "display_data"
    }
   ],
   "source": [
    "import pandas as pd\n",
    "import seaborn as sns\n",
    "import matplotlib.pyplot as plt\n",
    "\n",
    "\n",
    "sns.heatmap(matrix, annot=True , vmax=1, vmin=-1, center=0, cmap='vlag')\n",
    "plt.show()"
   ]
  },
  {
   "cell_type": "markdown",
   "id": "ab904494",
   "metadata": {},
   "source": [
    "# Since we want to select strong relationships, we need to be able to select values \n",
    "# greater than or equal to 0.7 and less than or equal to -0.7 Since this would make our \n",
    "# selection statement more complicated, we can simply filter on the absolute value of our correlation coefficient.\n"
   ]
  },
  {
   "cell_type": "code",
   "execution_count": 28,
   "id": "1808f1f5",
   "metadata": {},
   "outputs": [
    {
     "name": "stdout",
     "output_type": "stream",
     "text": [
      "Month       Month         1.00\n",
      "DayofMonth  DayofMonth    1.00\n",
      "DayOfWeek   DayOfWeek     1.00\n",
      "DepTime     DepTime       1.00\n",
      "            CRSDepTime    0.97\n",
      "            CRSArrTime    0.78\n",
      "CRSDepTime  DepTime       0.97\n",
      "            CRSDepTime    1.00\n",
      "            CRSArrTime    0.78\n",
      "CRSArrTime  DepTime       0.78\n",
      "            CRSDepTime    0.78\n",
      "            CRSArrTime    1.00\n",
      "ArrDelay    ArrDelay      1.00\n",
      "            DepDelay      0.93\n",
      "DepDelay    ArrDelay      0.93\n",
      "            DepDelay      1.00\n",
      "Distance    Distance      1.00\n",
      "dtype: float64\n"
     ]
    }
   ],
   "source": [
    "from  pyspark.sql.functions import abs\n",
    "\n",
    "matrix = matrix.unstack()\n",
    "\n",
    "\n",
    "matrix = matrix[(matrix) >= 0.7]\n",
    "\n",
    "print(matrix)"
   ]
  },
  {
   "cell_type": "code",
   "execution_count": null,
   "id": "c3131b82",
   "metadata": {},
   "outputs": [],
   "source": [
    "# Based on Correlation Matrix we only  choose the features that has strong correlation with our Target Variable ArrDelay\n",
    "# The strongest correlation are with  DepDelay  , DepTime, CRSDepTime and CRSArrTime , But first i will use 12 features \n",
    "# and evaluate the AUC of my linear regression "
   ]
  },
  {
   "cell_type": "code",
   "execution_count": null,
   "id": "9b7c42b9",
   "metadata": {},
   "outputs": [],
   "source": []
  },
  {
   "cell_type": "code",
   "execution_count": null,
   "id": "6e785551",
   "metadata": {},
   "outputs": [],
   "source": [
    "df4\n"
   ]
  },
  {
   "cell_type": "markdown",
   "id": "2424308f",
   "metadata": {},
   "source": [
    "# Define Arrival Delay  for the flight... > 15 minutes of its scheduled arrival"
   ]
  },
  {
   "cell_type": "code",
   "execution_count": 7,
   "id": "ca55cf9c",
   "metadata": {},
   "outputs": [
    {
     "data": {
      "text/html": [
       "<table border='1'>\n",
       "<tr><th>Month</th><th>DayofMonth</th><th>DayOfWeek</th><th>DepTime</th><th>CRSDepTime</th><th>CRSArrTime</th><th>UniqueCarrier</th><th>ArrDelay</th><th>DepDelay</th><th>Origin</th><th>Dest</th><th>Distance</th><th>Flight_Delayed</th></tr>\n",
       "<tr><td>1</td><td>3</td><td>4</td><td>1343</td><td>1325</td><td>1435</td><td>WN</td><td>16</td><td>18</td><td>HOU</td><td>LIT</td><td>393</td><td>1</td></tr>\n",
       "<tr><td>1</td><td>3</td><td>4</td><td>1125</td><td>1120</td><td>1245</td><td>WN</td><td>2</td><td>5</td><td>HOU</td><td>MAF</td><td>441</td><td>0</td></tr>\n",
       "<tr><td>1</td><td>3</td><td>4</td><td>2009</td><td>2015</td><td>2140</td><td>WN</td><td>-4</td><td>-6</td><td>HOU</td><td>MAF</td><td>441</td><td>0</td></tr>\n",
       "<tr><td>1</td><td>3</td><td>4</td><td>903</td><td>855</td><td>1205</td><td>WN</td><td>-2</td><td>8</td><td>HOU</td><td>MCO</td><td>848</td><td>0</td></tr>\n",
       "<tr><td>1</td><td>3</td><td>4</td><td>1423</td><td>1400</td><td>1710</td><td>WN</td><td>16</td><td>23</td><td>HOU</td><td>MCO</td><td>848</td><td>1</td></tr>\n",
       "<tr><td>1</td><td>3</td><td>4</td><td>2024</td><td>2020</td><td>2325</td><td>WN</td><td>0</td><td>4</td><td>HOU</td><td>MCO</td><td>848</td><td>0</td></tr>\n",
       "<tr><td>1</td><td>3</td><td>4</td><td>1753</td><td>1745</td><td>2050</td><td>WN</td><td>3</td><td>8</td><td>HOU</td><td>MCO</td><td>848</td><td>0</td></tr>\n",
       "<tr><td>1</td><td>3</td><td>4</td><td>622</td><td>620</td><td>930</td><td>WN</td><td>5</td><td>2</td><td>HOU</td><td>MCO</td><td>848</td><td>0</td></tr>\n",
       "<tr><td>1</td><td>3</td><td>4</td><td>1944</td><td>1945</td><td>2215</td><td>WN</td><td>-5</td><td>-1</td><td>HOU</td><td>MDW</td><td>937</td><td>0</td></tr>\n",
       "<tr><td>1</td><td>3</td><td>4</td><td>1453</td><td>1425</td><td>1650</td><td>WN</td><td>26</td><td>28</td><td>HOU</td><td>MDW</td><td>937</td><td>1</td></tr>\n",
       "<tr><td>1</td><td>3</td><td>4</td><td>2030</td><td>2015</td><td>2245</td><td>WN</td><td>6</td><td>15</td><td>HOU</td><td>MDW</td><td>937</td><td>1</td></tr>\n",
       "<tr><td>1</td><td>3</td><td>4</td><td>708</td><td>615</td><td>840</td><td>WN</td><td>56</td><td>53</td><td>HOU</td><td>MDW</td><td>937</td><td>1</td></tr>\n",
       "<tr><td>1</td><td>3</td><td>4</td><td>1749</td><td>1730</td><td>2000</td><td>WN</td><td>39</td><td>19</td><td>HOU</td><td>MDW</td><td>937</td><td>1</td></tr>\n",
       "<tr><td>1</td><td>3</td><td>4</td><td>1217</td><td>1215</td><td>1440</td><td>WN</td><td>-9</td><td>2</td><td>HOU</td><td>MDW</td><td>937</td><td>0</td></tr>\n",
       "<tr><td>1</td><td>3</td><td>4</td><td>954</td><td>940</td><td>1205</td><td>WN</td><td>1</td><td>14</td><td>HOU</td><td>MDW</td><td>937</td><td>0</td></tr>\n",
       "<tr><td>1</td><td>3</td><td>4</td><td>1758</td><td>1800</td><td>1900</td><td>WN</td><td>-6</td><td>-2</td><td>HOU</td><td>MSY</td><td>303</td><td>0</td></tr>\n",
       "<tr><td>1</td><td>3</td><td>4</td><td>2210</td><td>2120</td><td>2215</td><td>WN</td><td>50</td><td>50</td><td>HOU</td><td>MSY</td><td>303</td><td>1</td></tr>\n",
       "<tr><td>1</td><td>3</td><td>4</td><td>740</td><td>740</td><td>840</td><td>WN</td><td>-4</td><td>0</td><td>HOU</td><td>MSY</td><td>303</td><td>0</td></tr>\n",
       "<tr><td>1</td><td>3</td><td>4</td><td>1011</td><td>1005</td><td>1105</td><td>WN</td><td>11</td><td>6</td><td>HOU</td><td>MSY</td><td>303</td><td>0</td></tr>\n",
       "<tr><td>1</td><td>3</td><td>4</td><td>1612</td><td>1520</td><td>1620</td><td>WN</td><td>47</td><td>52</td><td>HOU</td><td>MSY</td><td>303</td><td>1</td></tr>\n",
       "</table>\n",
       "only showing top 20 rows\n"
      ],
      "text/plain": [
       "+-----+----------+---------+-------+----------+----------+-------------+--------+--------+------+----+--------+--------------+\n",
       "|Month|DayofMonth|DayOfWeek|DepTime|CRSDepTime|CRSArrTime|UniqueCarrier|ArrDelay|DepDelay|Origin|Dest|Distance|Flight_Delayed|\n",
       "+-----+----------+---------+-------+----------+----------+-------------+--------+--------+------+----+--------+--------------+\n",
       "|    1|         3|        4|   1343|      1325|      1435|           WN|      16|      18|   HOU| LIT|     393|             1|\n",
       "|    1|         3|        4|   1125|      1120|      1245|           WN|       2|       5|   HOU| MAF|     441|             0|\n",
       "|    1|         3|        4|   2009|      2015|      2140|           WN|      -4|      -6|   HOU| MAF|     441|             0|\n",
       "|    1|         3|        4|    903|       855|      1205|           WN|      -2|       8|   HOU| MCO|     848|             0|\n",
       "|    1|         3|        4|   1423|      1400|      1710|           WN|      16|      23|   HOU| MCO|     848|             1|\n",
       "|    1|         3|        4|   2024|      2020|      2325|           WN|       0|       4|   HOU| MCO|     848|             0|\n",
       "|    1|         3|        4|   1753|      1745|      2050|           WN|       3|       8|   HOU| MCO|     848|             0|\n",
       "|    1|         3|        4|    622|       620|       930|           WN|       5|       2|   HOU| MCO|     848|             0|\n",
       "|    1|         3|        4|   1944|      1945|      2215|           WN|      -5|      -1|   HOU| MDW|     937|             0|\n",
       "|    1|         3|        4|   1453|      1425|      1650|           WN|      26|      28|   HOU| MDW|     937|             1|\n",
       "|    1|         3|        4|   2030|      2015|      2245|           WN|       6|      15|   HOU| MDW|     937|             1|\n",
       "|    1|         3|        4|    708|       615|       840|           WN|      56|      53|   HOU| MDW|     937|             1|\n",
       "|    1|         3|        4|   1749|      1730|      2000|           WN|      39|      19|   HOU| MDW|     937|             1|\n",
       "|    1|         3|        4|   1217|      1215|      1440|           WN|      -9|       2|   HOU| MDW|     937|             0|\n",
       "|    1|         3|        4|    954|       940|      1205|           WN|       1|      14|   HOU| MDW|     937|             0|\n",
       "|    1|         3|        4|   1758|      1800|      1900|           WN|      -6|      -2|   HOU| MSY|     303|             0|\n",
       "|    1|         3|        4|   2210|      2120|      2215|           WN|      50|      50|   HOU| MSY|     303|             1|\n",
       "|    1|         3|        4|    740|       740|       840|           WN|      -4|       0|   HOU| MSY|     303|             0|\n",
       "|    1|         3|        4|   1011|      1005|      1105|           WN|      11|       6|   HOU| MSY|     303|             0|\n",
       "|    1|         3|        4|   1612|      1520|      1620|           WN|      47|      52|   HOU| MSY|     303|             1|\n",
       "+-----+----------+---------+-------+----------+----------+-------------+--------+--------+------+----+--------+--------------+\n",
       "only showing top 20 rows"
      ]
     },
     "execution_count": 7,
     "metadata": {},
     "output_type": "execute_result"
    }
   ],
   "source": [
    "from pyspark.sql import functions as fn\n",
    "\n",
    "#set up a threshold for the delay time and create like a Binary column 0/1\n",
    "\n",
    "df4 = df4.withColumn(\"Flight_Delayed\", fn.when(fn.col(\"DepDelay\")<15, 0).otherwise(1))\n",
    "\n",
    "df4"
   ]
  },
  {
   "cell_type": "code",
   "execution_count": 13,
   "id": "d5799162",
   "metadata": {},
   "outputs": [
    {
     "name": "stdout",
     "output_type": "stream",
     "text": [
      "root\n",
      " |-- Month: integer (nullable = true)\n",
      " |-- DayofMonth: integer (nullable = true)\n",
      " |-- DayOfWeek: integer (nullable = true)\n",
      " |-- DepTime: integer (nullable = true)\n",
      " |-- CRSDepTime: integer (nullable = true)\n",
      " |-- CRSArrTime: integer (nullable = true)\n",
      " |-- UniqueCarrier: string (nullable = true)\n",
      " |-- ArrDelay: integer (nullable = true)\n",
      " |-- DepDelay: integer (nullable = true)\n",
      " |-- Origin: string (nullable = true)\n",
      " |-- Dest: string (nullable = true)\n",
      " |-- Distance: integer (nullable = true)\n",
      " |-- Flight_Delayed: integer (nullable = false)\n",
      "\n"
     ]
    }
   ],
   "source": [
    "df4.printSchema()"
   ]
  },
  {
   "cell_type": "markdown",
   "id": "6874f7e9",
   "metadata": {},
   "source": [
    "# Models Logistic Regression\n",
    "\n",
    "# But the model needs all features to be in number format so we need to change the string col to  int using stringIndexer and OneHotEncoder\n",
    "\n",
    "# Encode Categorical Variables\n"
   ]
  },
  {
   "cell_type": "code",
   "execution_count": 8,
   "id": "000165fc",
   "metadata": {},
   "outputs": [
    {
     "name": "stderr",
     "output_type": "stream",
     "text": [
      "                                                                                \r"
     ]
    },
    {
     "data": {
      "text/html": [
       "<table border='1'>\n",
       "<tr><th>Month</th><th>DayofMonth</th><th>DayOfWeek</th><th>DepTime</th><th>CRSDepTime</th><th>CRSArrTime</th><th>UniqueCarrier</th><th>DepDelay</th><th>Origin</th><th>Dest</th><th>Distance</th><th>Flight_Delayed</th><th>UniqueCarrier_Numeric</th><th>UniqueCarrier_OHE</th><th>Origin_Numeric</th><th>Origin_OHE</th><th>Dest_Numeric</th><th>Dest_OHE</th></tr>\n",
       "<tr><td>1</td><td>3</td><td>4</td><td>1343</td><td>1325</td><td>1435</td><td>WN</td><td>18</td><td>HOU</td><td>LIT</td><td>393</td><td>1</td><td>0.0</td><td>(19,[0],[1.0])</td><td>39.0</td><td>(290,[39],[1.0])</td><td>79.0</td><td>(290,[79],[1.0])</td></tr>\n",
       "<tr><td>1</td><td>3</td><td>4</td><td>1125</td><td>1120</td><td>1245</td><td>WN</td><td>5</td><td>HOU</td><td>MAF</td><td>441</td><td>0</td><td>0.0</td><td>(19,[0],[1.0])</td><td>39.0</td><td>(290,[39],[1.0])</td><td>119.0</td><td>(290,[119],[1.0])</td></tr>\n",
       "<tr><td>1</td><td>3</td><td>4</td><td>2009</td><td>2015</td><td>2140</td><td>WN</td><td>-6</td><td>HOU</td><td>MAF</td><td>441</td><td>0</td><td>0.0</td><td>(19,[0],[1.0])</td><td>39.0</td><td>(290,[39],[1.0])</td><td>119.0</td><td>(290,[119],[1.0])</td></tr>\n",
       "<tr><td>1</td><td>3</td><td>4</td><td>903</td><td>855</td><td>1205</td><td>WN</td><td>8</td><td>HOU</td><td>MCO</td><td>848</td><td>0</td><td>0.0</td><td>(19,[0],[1.0])</td><td>39.0</td><td>(290,[39],[1.0])</td><td>11.0</td><td>(290,[11],[1.0])</td></tr>\n",
       "<tr><td>1</td><td>3</td><td>4</td><td>1423</td><td>1400</td><td>1710</td><td>WN</td><td>23</td><td>HOU</td><td>MCO</td><td>848</td><td>1</td><td>0.0</td><td>(19,[0],[1.0])</td><td>39.0</td><td>(290,[39],[1.0])</td><td>11.0</td><td>(290,[11],[1.0])</td></tr>\n",
       "<tr><td>1</td><td>3</td><td>4</td><td>2024</td><td>2020</td><td>2325</td><td>WN</td><td>4</td><td>HOU</td><td>MCO</td><td>848</td><td>0</td><td>0.0</td><td>(19,[0],[1.0])</td><td>39.0</td><td>(290,[39],[1.0])</td><td>11.0</td><td>(290,[11],[1.0])</td></tr>\n",
       "<tr><td>1</td><td>3</td><td>4</td><td>1753</td><td>1745</td><td>2050</td><td>WN</td><td>8</td><td>HOU</td><td>MCO</td><td>848</td><td>0</td><td>0.0</td><td>(19,[0],[1.0])</td><td>39.0</td><td>(290,[39],[1.0])</td><td>11.0</td><td>(290,[11],[1.0])</td></tr>\n",
       "<tr><td>1</td><td>3</td><td>4</td><td>622</td><td>620</td><td>930</td><td>WN</td><td>2</td><td>HOU</td><td>MCO</td><td>848</td><td>0</td><td>0.0</td><td>(19,[0],[1.0])</td><td>39.0</td><td>(290,[39],[1.0])</td><td>11.0</td><td>(290,[11],[1.0])</td></tr>\n",
       "<tr><td>1</td><td>3</td><td>4</td><td>1944</td><td>1945</td><td>2215</td><td>WN</td><td>-1</td><td>HOU</td><td>MDW</td><td>937</td><td>0</td><td>0.0</td><td>(19,[0],[1.0])</td><td>39.0</td><td>(290,[39],[1.0])</td><td>23.0</td><td>(290,[23],[1.0])</td></tr>\n",
       "<tr><td>1</td><td>3</td><td>4</td><td>1453</td><td>1425</td><td>1650</td><td>WN</td><td>28</td><td>HOU</td><td>MDW</td><td>937</td><td>1</td><td>0.0</td><td>(19,[0],[1.0])</td><td>39.0</td><td>(290,[39],[1.0])</td><td>23.0</td><td>(290,[23],[1.0])</td></tr>\n",
       "<tr><td>1</td><td>3</td><td>4</td><td>2030</td><td>2015</td><td>2245</td><td>WN</td><td>15</td><td>HOU</td><td>MDW</td><td>937</td><td>1</td><td>0.0</td><td>(19,[0],[1.0])</td><td>39.0</td><td>(290,[39],[1.0])</td><td>23.0</td><td>(290,[23],[1.0])</td></tr>\n",
       "<tr><td>1</td><td>3</td><td>4</td><td>708</td><td>615</td><td>840</td><td>WN</td><td>53</td><td>HOU</td><td>MDW</td><td>937</td><td>1</td><td>0.0</td><td>(19,[0],[1.0])</td><td>39.0</td><td>(290,[39],[1.0])</td><td>23.0</td><td>(290,[23],[1.0])</td></tr>\n",
       "<tr><td>1</td><td>3</td><td>4</td><td>1749</td><td>1730</td><td>2000</td><td>WN</td><td>19</td><td>HOU</td><td>MDW</td><td>937</td><td>1</td><td>0.0</td><td>(19,[0],[1.0])</td><td>39.0</td><td>(290,[39],[1.0])</td><td>23.0</td><td>(290,[23],[1.0])</td></tr>\n",
       "<tr><td>1</td><td>3</td><td>4</td><td>1217</td><td>1215</td><td>1440</td><td>WN</td><td>2</td><td>HOU</td><td>MDW</td><td>937</td><td>0</td><td>0.0</td><td>(19,[0],[1.0])</td><td>39.0</td><td>(290,[39],[1.0])</td><td>23.0</td><td>(290,[23],[1.0])</td></tr>\n",
       "<tr><td>1</td><td>3</td><td>4</td><td>954</td><td>940</td><td>1205</td><td>WN</td><td>14</td><td>HOU</td><td>MDW</td><td>937</td><td>0</td><td>0.0</td><td>(19,[0],[1.0])</td><td>39.0</td><td>(290,[39],[1.0])</td><td>23.0</td><td>(290,[23],[1.0])</td></tr>\n",
       "<tr><td>1</td><td>3</td><td>4</td><td>1758</td><td>1800</td><td>1900</td><td>WN</td><td>-2</td><td>HOU</td><td>MSY</td><td>303</td><td>0</td><td>0.0</td><td>(19,[0],[1.0])</td><td>39.0</td><td>(290,[39],[1.0])</td><td>47.0</td><td>(290,[47],[1.0])</td></tr>\n",
       "<tr><td>1</td><td>3</td><td>4</td><td>2210</td><td>2120</td><td>2215</td><td>WN</td><td>50</td><td>HOU</td><td>MSY</td><td>303</td><td>1</td><td>0.0</td><td>(19,[0],[1.0])</td><td>39.0</td><td>(290,[39],[1.0])</td><td>47.0</td><td>(290,[47],[1.0])</td></tr>\n",
       "<tr><td>1</td><td>3</td><td>4</td><td>740</td><td>740</td><td>840</td><td>WN</td><td>0</td><td>HOU</td><td>MSY</td><td>303</td><td>0</td><td>0.0</td><td>(19,[0],[1.0])</td><td>39.0</td><td>(290,[39],[1.0])</td><td>47.0</td><td>(290,[47],[1.0])</td></tr>\n",
       "<tr><td>1</td><td>3</td><td>4</td><td>1011</td><td>1005</td><td>1105</td><td>WN</td><td>6</td><td>HOU</td><td>MSY</td><td>303</td><td>0</td><td>0.0</td><td>(19,[0],[1.0])</td><td>39.0</td><td>(290,[39],[1.0])</td><td>47.0</td><td>(290,[47],[1.0])</td></tr>\n",
       "<tr><td>1</td><td>3</td><td>4</td><td>1612</td><td>1520</td><td>1620</td><td>WN</td><td>52</td><td>HOU</td><td>MSY</td><td>303</td><td>1</td><td>0.0</td><td>(19,[0],[1.0])</td><td>39.0</td><td>(290,[39],[1.0])</td><td>47.0</td><td>(290,[47],[1.0])</td></tr>\n",
       "</table>\n",
       "only showing top 20 rows\n"
      ],
      "text/plain": [
       "+-----+----------+---------+-------+----------+----------+-------------+--------+------+----+--------+--------------+---------------------+-----------------+--------------+----------------+------------+-----------------+\n",
       "|Month|DayofMonth|DayOfWeek|DepTime|CRSDepTime|CRSArrTime|UniqueCarrier|DepDelay|Origin|Dest|Distance|Flight_Delayed|UniqueCarrier_Numeric|UniqueCarrier_OHE|Origin_Numeric|      Origin_OHE|Dest_Numeric|         Dest_OHE|\n",
       "+-----+----------+---------+-------+----------+----------+-------------+--------+------+----+--------+--------------+---------------------+-----------------+--------------+----------------+------------+-----------------+\n",
       "|    1|         3|        4|   1343|      1325|      1435|           WN|      18|   HOU| LIT|     393|             1|                  0.0|   (19,[0],[1.0])|          39.0|(290,[39],[1.0])|        79.0| (290,[79],[1.0])|\n",
       "|    1|         3|        4|   1125|      1120|      1245|           WN|       5|   HOU| MAF|     441|             0|                  0.0|   (19,[0],[1.0])|          39.0|(290,[39],[1.0])|       119.0|(290,[119],[1.0])|\n",
       "|    1|         3|        4|   2009|      2015|      2140|           WN|      -6|   HOU| MAF|     441|             0|                  0.0|   (19,[0],[1.0])|          39.0|(290,[39],[1.0])|       119.0|(290,[119],[1.0])|\n",
       "|    1|         3|        4|    903|       855|      1205|           WN|       8|   HOU| MCO|     848|             0|                  0.0|   (19,[0],[1.0])|          39.0|(290,[39],[1.0])|        11.0| (290,[11],[1.0])|\n",
       "|    1|         3|        4|   1423|      1400|      1710|           WN|      23|   HOU| MCO|     848|             1|                  0.0|   (19,[0],[1.0])|          39.0|(290,[39],[1.0])|        11.0| (290,[11],[1.0])|\n",
       "|    1|         3|        4|   2024|      2020|      2325|           WN|       4|   HOU| MCO|     848|             0|                  0.0|   (19,[0],[1.0])|          39.0|(290,[39],[1.0])|        11.0| (290,[11],[1.0])|\n",
       "|    1|         3|        4|   1753|      1745|      2050|           WN|       8|   HOU| MCO|     848|             0|                  0.0|   (19,[0],[1.0])|          39.0|(290,[39],[1.0])|        11.0| (290,[11],[1.0])|\n",
       "|    1|         3|        4|    622|       620|       930|           WN|       2|   HOU| MCO|     848|             0|                  0.0|   (19,[0],[1.0])|          39.0|(290,[39],[1.0])|        11.0| (290,[11],[1.0])|\n",
       "|    1|         3|        4|   1944|      1945|      2215|           WN|      -1|   HOU| MDW|     937|             0|                  0.0|   (19,[0],[1.0])|          39.0|(290,[39],[1.0])|        23.0| (290,[23],[1.0])|\n",
       "|    1|         3|        4|   1453|      1425|      1650|           WN|      28|   HOU| MDW|     937|             1|                  0.0|   (19,[0],[1.0])|          39.0|(290,[39],[1.0])|        23.0| (290,[23],[1.0])|\n",
       "|    1|         3|        4|   2030|      2015|      2245|           WN|      15|   HOU| MDW|     937|             1|                  0.0|   (19,[0],[1.0])|          39.0|(290,[39],[1.0])|        23.0| (290,[23],[1.0])|\n",
       "|    1|         3|        4|    708|       615|       840|           WN|      53|   HOU| MDW|     937|             1|                  0.0|   (19,[0],[1.0])|          39.0|(290,[39],[1.0])|        23.0| (290,[23],[1.0])|\n",
       "|    1|         3|        4|   1749|      1730|      2000|           WN|      19|   HOU| MDW|     937|             1|                  0.0|   (19,[0],[1.0])|          39.0|(290,[39],[1.0])|        23.0| (290,[23],[1.0])|\n",
       "|    1|         3|        4|   1217|      1215|      1440|           WN|       2|   HOU| MDW|     937|             0|                  0.0|   (19,[0],[1.0])|          39.0|(290,[39],[1.0])|        23.0| (290,[23],[1.0])|\n",
       "|    1|         3|        4|    954|       940|      1205|           WN|      14|   HOU| MDW|     937|             0|                  0.0|   (19,[0],[1.0])|          39.0|(290,[39],[1.0])|        23.0| (290,[23],[1.0])|\n",
       "|    1|         3|        4|   1758|      1800|      1900|           WN|      -2|   HOU| MSY|     303|             0|                  0.0|   (19,[0],[1.0])|          39.0|(290,[39],[1.0])|        47.0| (290,[47],[1.0])|\n",
       "|    1|         3|        4|   2210|      2120|      2215|           WN|      50|   HOU| MSY|     303|             1|                  0.0|   (19,[0],[1.0])|          39.0|(290,[39],[1.0])|        47.0| (290,[47],[1.0])|\n",
       "|    1|         3|        4|    740|       740|       840|           WN|       0|   HOU| MSY|     303|             0|                  0.0|   (19,[0],[1.0])|          39.0|(290,[39],[1.0])|        47.0| (290,[47],[1.0])|\n",
       "|    1|         3|        4|   1011|      1005|      1105|           WN|       6|   HOU| MSY|     303|             0|                  0.0|   (19,[0],[1.0])|          39.0|(290,[39],[1.0])|        47.0| (290,[47],[1.0])|\n",
       "|    1|         3|        4|   1612|      1520|      1620|           WN|      52|   HOU| MSY|     303|             1|                  0.0|   (19,[0],[1.0])|          39.0|(290,[39],[1.0])|        47.0| (290,[47],[1.0])|\n",
       "+-----+----------+---------+-------+----------+----------+-------------+--------+------+----+--------+--------------+---------------------+-----------------+--------------+----------------+------------+-----------------+\n",
       "only showing top 20 rows"
      ]
     },
     "execution_count": 8,
     "metadata": {},
     "output_type": "execute_result"
    }
   ],
   "source": [
    "#perform string index, which prevents creation of new columns for the dummy variables and perform one hot encoding\n",
    "from pyspark.ml.feature import StringIndexer\n",
    "from pyspark.ml.feature import OneHotEncoder\n",
    "\n",
    "indexer = StringIndexer(inputCol=\"UniqueCarrier\", outputCol=\"UniqueCarrier_Numeric\")\n",
    "df4 = indexer.fit(df4).transform(df4)\n",
    "\n",
    "encoder=OneHotEncoder(inputCol=\"UniqueCarrier_Numeric\", outputCol=\"UniqueCarrier_OHE\")\n",
    "df4= encoder.fit(df4).transform(df4)\n",
    "\n",
    "\n",
    "indexer = StringIndexer(inputCol=\"Origin\", outputCol=\"Origin_Numeric\")\n",
    "df4 = indexer.fit(df4).transform(df4)\n",
    "\n",
    "encoder=OneHotEncoder(inputCol=\"Origin_Numeric\", outputCol=\"Origin_OHE\")\n",
    "df4= encoder.fit(df4).transform(df4)\n",
    "\n",
    "\n",
    "\n",
    "indexer = StringIndexer(inputCol=\"Dest\", outputCol=\"Dest_Numeric\")\n",
    "df4 = indexer.fit(df4).transform(df4)\n",
    "\n",
    "encoder=OneHotEncoder(inputCol=\"Dest_Numeric\", outputCol=\"Dest_OHE\")\n",
    "df4= encoder.fit(df4).transform(df4)\n",
    "\n",
    "df4 = df4.drop('ArrDelay')\n",
    "\n",
    "\n",
    "df4"
   ]
  },
  {
   "cell_type": "markdown",
   "id": "98a86982",
   "metadata": {},
   "source": []
  },
  {
   "cell_type": "code",
   "execution_count": 9,
   "id": "542e1bb7",
   "metadata": {},
   "outputs": [
    {
     "name": "stdout",
     "output_type": "stream",
     "text": [
      "root\n",
      " |-- Month: integer (nullable = true)\n",
      " |-- DayofMonth: integer (nullable = true)\n",
      " |-- DayOfWeek: integer (nullable = true)\n",
      " |-- DepTime: integer (nullable = true)\n",
      " |-- CRSDepTime: integer (nullable = true)\n",
      " |-- CRSArrTime: integer (nullable = true)\n",
      " |-- UniqueCarrier: string (nullable = true)\n",
      " |-- DepDelay: integer (nullable = true)\n",
      " |-- Origin: string (nullable = true)\n",
      " |-- Dest: string (nullable = true)\n",
      " |-- Distance: integer (nullable = true)\n",
      " |-- Flight_Delayed: integer (nullable = false)\n",
      " |-- UniqueCarrier_Numeric: double (nullable = false)\n",
      " |-- UniqueCarrier_OHE: vector (nullable = true)\n",
      " |-- Origin_Numeric: double (nullable = false)\n",
      " |-- Origin_OHE: vector (nullable = true)\n",
      " |-- Dest_Numeric: double (nullable = false)\n",
      " |-- Dest_OHE: vector (nullable = true)\n",
      "\n"
     ]
    }
   ],
   "source": [
    "df4.printSchema()"
   ]
  },
  {
   "cell_type": "markdown",
   "id": "beee9cd9",
   "metadata": {},
   "source": [
    "# split our ready  dataset into training and testing dataset. \n",
    "# Also check for imblance in the dataset. \n"
   ]
  },
  {
   "cell_type": "code",
   "execution_count": 10,
   "id": "d8dea63f",
   "metadata": {},
   "outputs": [
    {
     "name": "stderr",
     "output_type": "stream",
     "text": [
      "[Stage 27:===========================================>              (3 + 1) / 4]\r"
     ]
    },
    {
     "name": "stdout",
     "output_type": "stream",
     "text": [
      "+--------------+--------+\n",
      "|Flight_Delayed|count(1)|\n",
      "+--------------+--------+\n",
      "|             0|  543098|\n",
      "|             1|  452619|\n",
      "+--------------+--------+\n",
      "\n"
     ]
    },
    {
     "name": "stderr",
     "output_type": "stream",
     "text": [
      "                                                                                \r"
     ]
    }
   ],
   "source": [
    "# splitting the data  test /  training \n",
    "\n",
    "\n",
    "#Also checking if  dataset is imbalanced\n",
    "\n",
    "#perform undersampling for the preparation of the data\n",
    "#split the train test data\n",
    "training_df, testing_df = df4.randomSplit([0.9, 0.1], seed=5)\n",
    "\n",
    "#create major and minor DF to check the number of delayed and not delayed flights in our dataset \n",
    "major_df = training_df.filter(col(\"Flight_Delayed\") == 0)\n",
    "minor_df = training_df.filter(col(\"Flight_Delayed\") == 1)\n",
    "ratio = major_df.count()/minor_df.count()\n",
    "\n",
    "#create the balanced dataset for training the model\n",
    "sampled_majority_df = major_df.sample(False, 1.2/ratio, seed=5)\n",
    "\n",
    "combined_df_2 = sampled_majority_df.unionAll(minor_df)\n",
    "\n",
    "#shows the count of balanced dataframe\n",
    "combined_df_2.groupBy('Flight_Delayed').agg(fn.count('*')).show()\n",
    "\n",
    "\n"
   ]
  },
  {
   "cell_type": "code",
   "execution_count": 24,
   "id": "d3e1131f",
   "metadata": {},
   "outputs": [
    {
     "data": {
      "text/plain": [
       "3.61261237376248"
      ]
     },
     "execution_count": 24,
     "metadata": {},
     "output_type": "execute_result"
    }
   ],
   "source": [
    "ratio"
   ]
  },
  {
   "cell_type": "code",
   "execution_count": 11,
   "id": "a9630def",
   "metadata": {},
   "outputs": [
    {
     "name": "stderr",
     "output_type": "stream",
     "text": [
      "                                                                                \r"
     ]
    },
    {
     "data": {
      "text/plain": [
       "1635137"
      ]
     },
     "execution_count": 11,
     "metadata": {},
     "output_type": "execute_result"
    }
   ],
   "source": [
    "major_df.count()"
   ]
  },
  {
   "cell_type": "code",
   "execution_count": 12,
   "id": "ae25f9a5",
   "metadata": {},
   "outputs": [
    {
     "name": "stderr",
     "output_type": "stream",
     "text": [
      "                                                                                \r"
     ]
    },
    {
     "data": {
      "text/plain": [
       "452619"
      ]
     },
     "execution_count": 12,
     "metadata": {},
     "output_type": "execute_result"
    }
   ],
   "source": [
    "minor_df.count()"
   ]
  },
  {
   "cell_type": "code",
   "execution_count": 13,
   "id": "8a1f7870",
   "metadata": {},
   "outputs": [
    {
     "name": "stderr",
     "output_type": "stream",
     "text": [
      "                                                                                \r"
     ]
    },
    {
     "data": {
      "text/html": [
       "<table border='1'>\n",
       "<tr><th>Month</th><th>DayofMonth</th><th>DayOfWeek</th><th>DepTime</th><th>CRSDepTime</th><th>CRSArrTime</th><th>UniqueCarrier</th><th>DepDelay</th><th>Origin</th><th>Dest</th><th>Distance</th><th>Flight_Delayed</th><th>UniqueCarrier_Numeric</th><th>UniqueCarrier_OHE</th><th>Origin_Numeric</th><th>Origin_OHE</th><th>Dest_Numeric</th><th>Dest_OHE</th></tr>\n",
       "<tr><td>1</td><td>1</td><td>2</td><td>2</td><td>2355</td><td>532</td><td>F9</td><td>7</td><td>DEN</td><td>FLL</td><td>1703</td><td>0</td><td>17.0</td><td>(19,[17],[1.0])</td><td>3.0</td><td>(290,[3],[1.0])</td><td>28.0</td><td>(290,[28],[1.0])</td></tr>\n",
       "<tr><td>1</td><td>1</td><td>2</td><td>2</td><td>2355</td><td>755</td><td>B6</td><td>7</td><td>PDX</td><td>JFK</td><td>2454</td><td>0</td><td>15.0</td><td>(19,[15],[1.0])</td><td>38.0</td><td>(290,[38],[1.0])</td><td>16.0</td><td>(290,[16],[1.0])</td></tr>\n",
       "<tr><td>1</td><td>1</td><td>2</td><td>6</td><td>2355</td><td>505</td><td>F9</td><td>11</td><td>DEN</td><td>JAX</td><td>1447</td><td>0</td><td>17.0</td><td>(19,[17],[1.0])</td><td>3.0</td><td>(290,[3],[1.0])</td><td>53.0</td><td>(290,[53],[1.0])</td></tr>\n",
       "<tr><td>1</td><td>1</td><td>2</td><td>8</td><td>2354</td><td>510</td><td>US</td><td>14</td><td>LAS</td><td>MSP</td><td>1300</td><td>0</td><td>4.0</td><td>(19,[4],[1.0])</td><td>7.0</td><td>(290,[7],[1.0])</td><td>12.0</td><td>(290,[12],[1.0])</td></tr>\n",
       "<tr><td>1</td><td>1</td><td>2</td><td>8</td><td>2359</td><td>800</td><td>B6</td><td>9</td><td>SEA</td><td>JFK</td><td>2421</td><td>0</td><td>15.0</td><td>(19,[15],[1.0])</td><td>19.0</td><td>(290,[19],[1.0])</td><td>16.0</td><td>(290,[16],[1.0])</td></tr>\n",
       "<tr><td>1</td><td>1</td><td>2</td><td>9</td><td>2355</td><td>652</td><td>US</td><td>14</td><td>LAS</td><td>PIT</td><td>1910</td><td>0</td><td>4.0</td><td>(19,[4],[1.0])</td><td>7.0</td><td>(290,[7],[1.0])</td><td>45.0</td><td>(290,[45],[1.0])</td></tr>\n",
       "<tr><td>1</td><td>1</td><td>2</td><td>21</td><td>30</td><td>831</td><td>B6</td><td>-9</td><td>ONT</td><td>JFK</td><td>2430</td><td>0</td><td>15.0</td><td>(19,[15],[1.0])</td><td>48.0</td><td>(290,[48],[1.0])</td><td>16.0</td><td>(290,[16],[1.0])</td></tr>\n",
       "<tr><td>1</td><td>1</td><td>2</td><td>33</td><td>30</td><td>605</td><td>NW</td><td>3</td><td>LAX</td><td>MSP</td><td>1536</td><td>0</td><td>8.0</td><td>(19,[8],[1.0])</td><td>4.0</td><td>(290,[4],[1.0])</td><td>12.0</td><td>(290,[12],[1.0])</td></tr>\n",
       "<tr><td>1</td><td>1</td><td>2</td><td>35</td><td>40</td><td>500</td><td>AA</td><td>-5</td><td>LAS</td><td>DFW</td><td>1055</td><td>0</td><td>1.0</td><td>(19,[1],[1.0])</td><td>7.0</td><td>(290,[7],[1.0])</td><td>2.0</td><td>(290,[2],[1.0])</td></tr>\n",
       "<tr><td>1</td><td>1</td><td>2</td><td>44</td><td>45</td><td>612</td><td>DL</td><td>-1</td><td>PHX</td><td>ATL</td><td>1587</td><td>0</td><td>6.0</td><td>(19,[6],[1.0])</td><td>5.0</td><td>(290,[5],[1.0])</td><td>0.0</td><td>(290,[0],[1.0])</td></tr>\n",
       "<tr><td>1</td><td>1</td><td>2</td><td>49</td><td>55</td><td>533</td><td>DL</td><td>-6</td><td>DEN</td><td>ATL</td><td>1199</td><td>0</td><td>6.0</td><td>(19,[6],[1.0])</td><td>3.0</td><td>(290,[3],[1.0])</td><td>0.0</td><td>(290,[0],[1.0])</td></tr>\n",
       "<tr><td>1</td><td>1</td><td>2</td><td>51</td><td>100</td><td>516</td><td>CO</td><td>-9</td><td>ANC</td><td>SEA</td><td>1449</td><td>0</td><td>9.0</td><td>(19,[9],[1.0])</td><td>74.0</td><td>(290,[74],[1.0])</td><td>19.0</td><td>(290,[19],[1.0])</td></tr>\n",
       "<tr><td>1</td><td>1</td><td>2</td><td>55</td><td>100</td><td>558</td><td>NW</td><td>-5</td><td>LAS</td><td>MSP</td><td>1300</td><td>0</td><td>8.0</td><td>(19,[8],[1.0])</td><td>7.0</td><td>(290,[7],[1.0])</td><td>12.0</td><td>(290,[12],[1.0])</td></tr>\n",
       "<tr><td>1</td><td>1</td><td>2</td><td>102</td><td>100</td><td>610</td><td>AA</td><td>2</td><td>SFO</td><td>DFW</td><td>1464</td><td>0</td><td>1.0</td><td>(19,[1],[1.0])</td><td>13.0</td><td>(290,[13],[1.0])</td><td>2.0</td><td>(290,[2],[1.0])</td></tr>\n",
       "<tr><td>1</td><td>1</td><td>2</td><td>129</td><td>130</td><td>557</td><td>AS</td><td>-1</td><td>FAI</td><td>SEA</td><td>1533</td><td>0</td><td>16.0</td><td>(19,[16],[1.0])</td><td>144.0</td><td>(290,[144],[1.0])</td><td>19.0</td><td>(290,[19],[1.0])</td></tr>\n",
       "<tr><td>1</td><td>1</td><td>2</td><td>232</td><td>230</td><td>640</td><td>HA</td><td>2</td><td>LAS</td><td>HNL</td><td>2762</td><td>0</td><td>18.0</td><td>(19,[18],[1.0])</td><td>7.0</td><td>(290,[7],[1.0])</td><td>35.0</td><td>(290,[35],[1.0])</td></tr>\n",
       "<tr><td>1</td><td>1</td><td>2</td><td>303</td><td>300</td><td>607</td><td>CO</td><td>3</td><td>SJU</td><td>EWR</td><td>1608</td><td>0</td><td>9.0</td><td>(19,[9],[1.0])</td><td>61.0</td><td>(290,[61],[1.0])</td><td>10.0</td><td>(290,[10],[1.0])</td></tr>\n",
       "<tr><td>1</td><td>1</td><td>2</td><td>404</td><td>400</td><td>608</td><td>B6</td><td>4</td><td>BQN</td><td>MCO</td><td>1129</td><td>0</td><td>15.0</td><td>(19,[15],[1.0])</td><td>218.0</td><td>(290,[218],[1.0])</td><td>11.0</td><td>(290,[11],[1.0])</td></tr>\n",
       "<tr><td>1</td><td>1</td><td>2</td><td>453</td><td>500</td><td>537</td><td>AQ</td><td>-7</td><td>HNL</td><td>LIH</td><td>102</td><td>0</td><td>19.0</td><td>(19,[],[])</td><td>35.0</td><td>(290,[35],[1.0])</td><td>86.0</td><td>(290,[86],[1.0])</td></tr>\n",
       "<tr><td>1</td><td>1</td><td>2</td><td>504</td><td>510</td><td>601</td><td>AQ</td><td>-6</td><td>HNL</td><td>ITO</td><td>216</td><td>0</td><td>19.0</td><td>(19,[],[])</td><td>35.0</td><td>(290,[35],[1.0])</td><td>113.0</td><td>(290,[113],[1.0])</td></tr>\n",
       "</table>\n",
       "only showing top 20 rows\n"
      ],
      "text/plain": [
       "+-----+----------+---------+-------+----------+----------+-------------+--------+------+----+--------+--------------+---------------------+-----------------+--------------+-----------------+------------+-----------------+\n",
       "|Month|DayofMonth|DayOfWeek|DepTime|CRSDepTime|CRSArrTime|UniqueCarrier|DepDelay|Origin|Dest|Distance|Flight_Delayed|UniqueCarrier_Numeric|UniqueCarrier_OHE|Origin_Numeric|       Origin_OHE|Dest_Numeric|         Dest_OHE|\n",
       "+-----+----------+---------+-------+----------+----------+-------------+--------+------+----+--------+--------------+---------------------+-----------------+--------------+-----------------+------------+-----------------+\n",
       "|    1|         1|        2|      2|      2355|       532|           F9|       7|   DEN| FLL|    1703|             0|                 17.0|  (19,[17],[1.0])|           3.0|  (290,[3],[1.0])|        28.0| (290,[28],[1.0])|\n",
       "|    1|         1|        2|      2|      2355|       755|           B6|       7|   PDX| JFK|    2454|             0|                 15.0|  (19,[15],[1.0])|          38.0| (290,[38],[1.0])|        16.0| (290,[16],[1.0])|\n",
       "|    1|         1|        2|      6|      2355|       505|           F9|      11|   DEN| JAX|    1447|             0|                 17.0|  (19,[17],[1.0])|           3.0|  (290,[3],[1.0])|        53.0| (290,[53],[1.0])|\n",
       "|    1|         1|        2|      8|      2354|       510|           US|      14|   LAS| MSP|    1300|             0|                  4.0|   (19,[4],[1.0])|           7.0|  (290,[7],[1.0])|        12.0| (290,[12],[1.0])|\n",
       "|    1|         1|        2|      8|      2359|       800|           B6|       9|   SEA| JFK|    2421|             0|                 15.0|  (19,[15],[1.0])|          19.0| (290,[19],[1.0])|        16.0| (290,[16],[1.0])|\n",
       "|    1|         1|        2|      9|      2355|       652|           US|      14|   LAS| PIT|    1910|             0|                  4.0|   (19,[4],[1.0])|           7.0|  (290,[7],[1.0])|        45.0| (290,[45],[1.0])|\n",
       "|    1|         1|        2|     21|        30|       831|           B6|      -9|   ONT| JFK|    2430|             0|                 15.0|  (19,[15],[1.0])|          48.0| (290,[48],[1.0])|        16.0| (290,[16],[1.0])|\n",
       "|    1|         1|        2|     33|        30|       605|           NW|       3|   LAX| MSP|    1536|             0|                  8.0|   (19,[8],[1.0])|           4.0|  (290,[4],[1.0])|        12.0| (290,[12],[1.0])|\n",
       "|    1|         1|        2|     35|        40|       500|           AA|      -5|   LAS| DFW|    1055|             0|                  1.0|   (19,[1],[1.0])|           7.0|  (290,[7],[1.0])|         2.0|  (290,[2],[1.0])|\n",
       "|    1|         1|        2|     44|        45|       612|           DL|      -1|   PHX| ATL|    1587|             0|                  6.0|   (19,[6],[1.0])|           5.0|  (290,[5],[1.0])|         0.0|  (290,[0],[1.0])|\n",
       "|    1|         1|        2|     49|        55|       533|           DL|      -6|   DEN| ATL|    1199|             0|                  6.0|   (19,[6],[1.0])|           3.0|  (290,[3],[1.0])|         0.0|  (290,[0],[1.0])|\n",
       "|    1|         1|        2|     51|       100|       516|           CO|      -9|   ANC| SEA|    1449|             0|                  9.0|   (19,[9],[1.0])|          74.0| (290,[74],[1.0])|        19.0| (290,[19],[1.0])|\n",
       "|    1|         1|        2|     55|       100|       558|           NW|      -5|   LAS| MSP|    1300|             0|                  8.0|   (19,[8],[1.0])|           7.0|  (290,[7],[1.0])|        12.0| (290,[12],[1.0])|\n",
       "|    1|         1|        2|    102|       100|       610|           AA|       2|   SFO| DFW|    1464|             0|                  1.0|   (19,[1],[1.0])|          13.0| (290,[13],[1.0])|         2.0|  (290,[2],[1.0])|\n",
       "|    1|         1|        2|    129|       130|       557|           AS|      -1|   FAI| SEA|    1533|             0|                 16.0|  (19,[16],[1.0])|         144.0|(290,[144],[1.0])|        19.0| (290,[19],[1.0])|\n",
       "|    1|         1|        2|    232|       230|       640|           HA|       2|   LAS| HNL|    2762|             0|                 18.0|  (19,[18],[1.0])|           7.0|  (290,[7],[1.0])|        35.0| (290,[35],[1.0])|\n",
       "|    1|         1|        2|    303|       300|       607|           CO|       3|   SJU| EWR|    1608|             0|                  9.0|   (19,[9],[1.0])|          61.0| (290,[61],[1.0])|        10.0| (290,[10],[1.0])|\n",
       "|    1|         1|        2|    404|       400|       608|           B6|       4|   BQN| MCO|    1129|             0|                 15.0|  (19,[15],[1.0])|         218.0|(290,[218],[1.0])|        11.0| (290,[11],[1.0])|\n",
       "|    1|         1|        2|    453|       500|       537|           AQ|      -7|   HNL| LIH|     102|             0|                 19.0|       (19,[],[])|          35.0| (290,[35],[1.0])|        86.0| (290,[86],[1.0])|\n",
       "|    1|         1|        2|    504|       510|       601|           AQ|      -6|   HNL| ITO|     216|             0|                 19.0|       (19,[],[])|          35.0| (290,[35],[1.0])|       113.0|(290,[113],[1.0])|\n",
       "+-----+----------+---------+-------+----------+----------+-------------+--------+------+----+--------+--------------+---------------------+-----------------+--------------+-----------------+------------+-----------------+\n",
       "only showing top 20 rows"
      ]
     },
     "execution_count": 13,
     "metadata": {},
     "output_type": "execute_result"
    }
   ],
   "source": [
    "sampled_majority_df\n"
   ]
  },
  {
   "cell_type": "code",
   "execution_count": null,
   "id": "4483fee0",
   "metadata": {},
   "outputs": [],
   "source": []
  },
  {
   "cell_type": "code",
   "execution_count": 28,
   "id": "cf5c16e5",
   "metadata": {},
   "outputs": [],
   "source": [
    "# Models to use  and each accuracy  evaluation for it \n",
    "\n"
   ]
  },
  {
   "cell_type": "code",
   "execution_count": 14,
   "id": "f6593aaa",
   "metadata": {},
   "outputs": [],
   "source": [
    "from pyspark.ml import feature\n",
    "from pyspark.ml import clustering\n",
    "from pyspark.ml import Pipeline\n",
    "from pyspark.sql import functions as fn\n",
    "import numpy as np\n",
    "from pyspark.sql import SparkSession\n",
    "from pyspark.ml import feature, regression, evaluation, Pipeline\n",
    "from pyspark.sql import functions as fn, Row\n",
    "import matplotlib.pyplot as plt\n",
    "import seaborn as sns\n",
    "import pandas as pd\n",
    "from pyspark.sql import functions as sf\n",
    "from pyspark.ml.feature import CountVectorizer\n",
    "from pyspark.ml.feature import IDF\n",
    "from pyspark.ml.feature import RegexTokenizer\n",
    "import requests\n",
    "from pyspark.ml.feature import StopWordsRemover\n",
    "from pyspark.sql.functions import concat, col, lit, lower\n",
    "from pyspark.sql.functions import isnan, when, count, col, isnull\n",
    "from pyspark.sql.functions import concat_ws\n",
    "from  pyspark.sql.functions import abs\n",
    "# seting master(\"local[*]\") enables multicore processing on all available logical cores on your machine\n",
    "spark = SparkSession.builder.master(\"local[*]\").getOrCreate()\n",
    "from pyspark.ml.classification import LogisticRegression, RandomForestClassifier\n",
    "from pyspark.ml import Pipeline\n",
    "from pyspark.ml.evaluation import BinaryClassificationEvaluator\n",
    "from pyspark.ml.classification import GBTClassifier\n",
    "from pyspark.ml.tuning import CrossValidator, ParamGridBuilder\n",
    "from pyspark.ml.tuning import CrossValidatorModel\n",
    "from pyspark.ml import evaluation\n",
    "from pyspark.ml.feature import VectorAssembler\n",
    "from pyspark.ml import evaluation\n",
    "from pyspark.ml.classification import LogisticRegression, RandomForestClassifier\n",
    "from pyspark.ml import Pipeline\n",
    "from pyspark.ml.tuning import CrossValidator, ParamGridBuilder\n",
    "from pyspark.ml.evaluation import BinaryClassificationEvaluator\n",
    "from pyspark.ml.feature import VectorAssembler, StandardScaler"
   ]
  },
  {
   "cell_type": "code",
   "execution_count": 15,
   "id": "e47b0714",
   "metadata": {},
   "outputs": [
    {
     "name": "stderr",
     "output_type": "stream",
     "text": [
      "22/05/16 21:26:51 WARN BLAS: Failed to load implementation from: com.github.fommil.netlib.NativeSystemBLAS\n",
      "22/05/16 21:26:51 WARN BLAS: Failed to load implementation from: com.github.fommil.netlib.NativeRefBLAS\n",
      "/opt/conda/envs/bigdata/lib/python3.8/site-packages/pyspark/sql/context.py:125: FutureWarning: Deprecated in 3.0.0. Use SparkSession.builder.getOrCreate() instead.\n",
      "  warnings.warn(\n"
     ]
    },
    {
     "data": {
      "image/png": "[encoded data removed]",
      "text/plain": [
       "<Figure size 720x432 with 1 Axes>"
      ]
     },
     "metadata": {
      "needs_background": "light"
     },
     "output_type": "display_data"
    }
   ],
   "source": [
    "#implementation of prepared and undersampled dataset for the model implementation\n",
    "\n",
    "\n",
    "#  VA is a transformer combines list of columns into a single vector column to train ML models \n",
    "# combine our features into one vector \n",
    "\n",
    "\n",
    "\n",
    "#create a vector assembler\n",
    "va = VectorAssembler(\n",
    "    inputCols=[\"Month\", \"DayofMonth\", \"DayOfWeek\", \"UniqueCarrier_OHE\", \"Origin_OHE\", \"Dest_OHE\", \"CRSDepTime\", \"CRSArrTime\"], outputCol=\"features\")\n",
    "\n",
    "\n",
    "\n",
    "\n",
    "#train a logistic model\n",
    "lr = LogisticRegression(featuresCol='features', labelCol='Flight_Delayed', regParam=0.2, elasticNetParam=0.1, threshold=0.45, thresholds=[0.55, 0.45])\n",
    "lr_pipeline = Pipeline(stages=[va, lr])\n",
    "lr_model = lr_pipeline.fit(combined_df_2)\n",
    "lr_transform = lr_model.transform(testing_df)\n",
    "\n",
    "#logistic model metric evaluation\n",
    "\n",
    "#AUC score\n",
    "bce = BinaryClassificationEvaluator(labelCol='Flight_Delayed', metricName='areaUnderROC')\n",
    "score_auc=bce.evaluate(lr_transform)\n",
    "\n",
    "#Recall  =  ( TP / TP + FN )\n",
    "\n",
    "#The focus of recall is actual positive classes. It indicates how many of the positive classes the model is able to predict correctly.\n",
    "\n",
    "lr_evaluator_recall = evaluation.MulticlassClassificationEvaluator(labelCol=\"Flight_Delayed\", metricName=\"weightedRecall\")\n",
    "score_recall=lr_evaluator_recall.evaluate(lr_model.transform(testing_df))\n",
    "\n",
    "#Precision  = (  TP / TP + FP )\n",
    "\n",
    "# The focus of precision is positive predictions. It indicates how many of the positive predictions are true.\n",
    "\n",
    "\n",
    "lr_evaluator_precision = evaluation.MulticlassClassificationEvaluator(labelCol=\"Flight_Delayed\", metricName=\"weightedPrecision\")\n",
    "score_precision=lr_evaluator_precision.evaluate(lr_model.transform(testing_df))\n",
    "\n",
    "\n",
    "#accuracy\n",
    "lr_evaluator_accuracy = evaluation.MulticlassClassificationEvaluator(labelCol=\"Flight_Delayed\", metricName=\"accuracy\")\n",
    "score_accuracy=lr_evaluator_accuracy.evaluate(lr_model.transform(testing_df))\n",
    "\n",
    "#f1 \n",
    "lr_evaluator_accuracy = evaluation.MulticlassClassificationEvaluator(labelCol=\"Flight_Delayed\", metricName=\"f1\")\n",
    "score_f1=lr_evaluator_accuracy.evaluate(lr_model.transform(testing_df))\n",
    "\n",
    "#shows the scatterplot    TPR  true positive rate      FPR  false postive Rate \n",
    "# ROC  receiver operating characteristic curve is a performance measuer \n",
    "plt.figure(figsize=(10,6))\n",
    "plt.plot([0, 1], [0, 1], 'r--')\n",
    "plt.scatter(lr_model.stages[-1].summary.roc.select('FPR').collect(),\n",
    "            lr_model.stages[-1].summary.roc.select('TPR').collect())\n",
    "plt.title('ROC Scatter Plot : TPR/FPR')\n",
    "plt.xlabel('FPR')\n",
    "plt.ylabel('TPR')\n",
    "display()\n"
   ]
  },
  {
   "cell_type": "code",
   "execution_count": 16,
   "id": "cbb2ed86",
   "metadata": {},
   "outputs": [
    {
     "data": {
      "text/html": [
       "<div>\n",
       "<style scoped>\n",
       "    .dataframe tbody tr th:only-of-type {\n",
       "        vertical-align: middle;\n",
       "    }\n",
       "\n",
       "    .dataframe tbody tr th {\n",
       "        vertical-align: top;\n",
       "    }\n",
       "\n",
       "    .dataframe thead th {\n",
       "        text-align: right;\n",
       "    }\n",
       "</style>\n",
       "<table border=\"1\" class=\"dataframe\">\n",
       "  <thead>\n",
       "    <tr style=\"text-align: right;\">\n",
       "      <th></th>\n",
       "      <th>Metric Name</th>\n",
       "      <th>Score</th>\n",
       "    </tr>\n",
       "  </thead>\n",
       "  <tbody>\n",
       "    <tr>\n",
       "      <th>1</th>\n",
       "      <td>AUC</td>\n",
       "      <td>0.641699</td>\n",
       "    </tr>\n",
       "    <tr>\n",
       "      <th>2</th>\n",
       "      <td>Recall</td>\n",
       "      <td>0.580330</td>\n",
       "    </tr>\n",
       "    <tr>\n",
       "      <th>3</th>\n",
       "      <td>Accuracy</td>\n",
       "      <td>0.580330</td>\n",
       "    </tr>\n",
       "    <tr>\n",
       "      <th>4</th>\n",
       "      <td>f1</td>\n",
       "      <td>0.617519</td>\n",
       "    </tr>\n",
       "    <tr>\n",
       "      <th>5</th>\n",
       "      <td>Precision</td>\n",
       "      <td>0.730110</td>\n",
       "    </tr>\n",
       "  </tbody>\n",
       "</table>\n",
       "</div>"
      ],
      "text/plain": [
       "  Metric Name     Score\n",
       "1         AUC  0.641699\n",
       "2      Recall  0.580330\n",
       "3    Accuracy  0.580330\n",
       "4          f1  0.617519\n",
       "5   Precision  0.730110"
      ]
     },
     "execution_count": 16,
     "metadata": {},
     "output_type": "execute_result"
    }
   ],
   "source": [
    "scores = [score_auc, score_recall, score_accuracy, score_f1, score_precision]\n",
    "metricName = ['AUC', 'Recall', 'Accuracy', 'f1', 'Precision']\n",
    "metric_df = pd.DataFrame(zip(metricName,scores),index=[1,2,3,4,5],columns=['Metric Name', 'Score'])\n",
    "metric_df.head(5)"
   ]
  },
  {
   "cell_type": "code",
   "execution_count": 17,
   "id": "9c529c4f",
   "metadata": {},
   "outputs": [
    {
     "name": "stderr",
     "output_type": "stream",
     "text": [
      "                                                                                \r"
     ]
    },
    {
     "data": {
      "text/html": [
       "<table border='1'>\n",
       "<tr><th>Month</th><th>DayofMonth</th><th>DayOfWeek</th><th>DepTime</th><th>CRSDepTime</th><th>CRSArrTime</th><th>UniqueCarrier</th><th>DepDelay</th><th>Origin</th><th>Dest</th><th>Distance</th><th>Flight_Delayed</th><th>UniqueCarrier_Numeric</th><th>UniqueCarrier_OHE</th><th>Origin_Numeric</th><th>Origin_OHE</th><th>Dest_Numeric</th><th>Dest_OHE</th><th>features</th><th>rawPrediction</th><th>probability</th><th>prediction</th></tr>\n",
       "<tr><td>1</td><td>1</td><td>2</td><td>3</td><td>2315</td><td>717</td><td>UA</td><td>48</td><td>OAK</td><td>IAD</td><td>2408</td><td>1</td><td>5.0</td><td>(19,[5],[1.0])</td><td>29.0</td><td>(290,[29],[1.0])</td><td>27.0</td><td>(290,[27],[1.0])</td><td>(604,[0,1,2,8,51,...</td><td>[0.08184585473893...</td><td>[0.52045004915548...</td><td>1.0</td></tr>\n",
       "<tr><td>1</td><td>1</td><td>2</td><td>11</td><td>2107</td><td>54</td><td>UA</td><td>184</td><td>JFK</td><td>SFO</td><td>2586</td><td>1</td><td>5.0</td><td>(19,[5],[1.0])</td><td>15.0</td><td>(290,[15],[1.0])</td><td>13.0</td><td>(290,[13],[1.0])</td><td>(604,[0,1,2,8,37,...</td><td>[0.32051114194380...</td><td>[0.57944881630406...</td><td>0.0</td></tr>\n",
       "<tr><td>1</td><td>1</td><td>2</td><td>20</td><td>2359</td><td>118</td><td>US</td><td>21</td><td>LAS</td><td>SAN</td><td>258</td><td>1</td><td>4.0</td><td>(19,[4],[1.0])</td><td>7.0</td><td>(290,[7],[1.0])</td><td>22.0</td><td>(290,[22],[1.0])</td><td>(604,[0,1,2,7,29,...</td><td>[0.25684113778473...</td><td>[0.56385961556870...</td><td>0.0</td></tr>\n",
       "<tr><td>1</td><td>1</td><td>2</td><td>26</td><td>2255</td><td>135</td><td>B6</td><td>91</td><td>FLL</td><td>JFK</td><td>1069</td><td>1</td><td>15.0</td><td>(19,[15],[1.0])</td><td>28.0</td><td>(290,[28],[1.0])</td><td>16.0</td><td>(290,[16],[1.0])</td><td>(604,[0,1,2,18,50...</td><td>[0.24931787398027...</td><td>[0.56200859930905...</td><td>0.0</td></tr>\n",
       "<tr><td>1</td><td>1</td><td>2</td><td>28</td><td>2340</td><td>727</td><td>US</td><td>48</td><td>LAS</td><td>PHL</td><td>2176</td><td>1</td><td>4.0</td><td>(19,[4],[1.0])</td><td>7.0</td><td>(290,[7],[1.0])</td><td>20.0</td><td>(290,[20],[1.0])</td><td>(604,[0,1,2,7,29,...</td><td>[0.10964306815353...</td><td>[0.52738333989784...</td><td>1.0</td></tr>\n",
       "<tr><td>1</td><td>1</td><td>2</td><td>29</td><td>2145</td><td>2230</td><td>WN</td><td>164</td><td>TPA</td><td>PBI</td><td>174</td><td>1</td><td>0.0</td><td>(19,[0],[1.0])</td><td>25.0</td><td>(290,[25],[1.0])</td><td>54.0</td><td>(290,[54],[1.0])</td><td>(604,[0,1,2,3,47,...</td><td>[-0.2417466860297...</td><td>[0.43985595241892...</td><td>1.0</td></tr>\n",
       "<tr><td>1</td><td>1</td><td>2</td><td>33</td><td>35</td><td>603</td><td>CO</td><td>-2</td><td>SFO</td><td>IAH</td><td>1635</td><td>0</td><td>9.0</td><td>(19,[9],[1.0])</td><td>13.0</td><td>(290,[13],[1.0])</td><td>6.0</td><td>(290,[6],[1.0])</td><td>(604,[0,1,2,12,35...</td><td>[0.89242354432947...</td><td>[0.70939005372734...</td><td>0.0</td></tr>\n",
       "<tr><td>1</td><td>1</td><td>2</td><td>33</td><td>2125</td><td>2330</td><td>MQ</td><td>188</td><td>ORD</td><td>OKC</td><td>693</td><td>1</td><td>3.0</td><td>(19,[3],[1.0])</td><td>1.0</td><td>(290,[1],[1.0])</td><td>58.0</td><td>(290,[58],[1.0])</td><td>(604,[0,1,2,6,23,...</td><td>[-0.4578235676181...</td><td>[0.38750226094071...</td><td>1.0</td></tr>\n",
       "<tr><td>1</td><td>1</td><td>2</td><td>37</td><td>40</td><td>753</td><td>DL</td><td>-3</td><td>SEA</td><td>CVG</td><td>1964</td><td>0</td><td>6.0</td><td>(19,[6],[1.0])</td><td>19.0</td><td>(290,[19],[1.0])</td><td>21.0</td><td>(290,[21],[1.0])</td><td>(604,[0,1,2,9,41,...</td><td>[0.85284869249785...</td><td>[0.70116437909894...</td><td>0.0</td></tr>\n",
       "<tr><td>1</td><td>1</td><td>2</td><td>51</td><td>2359</td><td>756</td><td>US</td><td>52</td><td>LAS</td><td>EWR</td><td>2227</td><td>1</td><td>4.0</td><td>(19,[4],[1.0])</td><td>7.0</td><td>(290,[7],[1.0])</td><td>10.0</td><td>(290,[10],[1.0])</td><td>(604,[0,1,2,7,29,...</td><td>[0.02723263280756...</td><td>[0.50680773747967...</td><td>1.0</td></tr>\n",
       "<tr><td>1</td><td>1</td><td>2</td><td>53</td><td>55</td><td>624</td><td>B6</td><td>-2</td><td>DEN</td><td>JFK</td><td>1626</td><td>0</td><td>15.0</td><td>(19,[15],[1.0])</td><td>3.0</td><td>(290,[3],[1.0])</td><td>16.0</td><td>(290,[16],[1.0])</td><td>(604,[0,1,2,18,25...</td><td>[0.88026516441299...</td><td>[0.70687716666108...</td><td>0.0</td></tr>\n",
       "<tr><td>1</td><td>1</td><td>2</td><td>55</td><td>2225</td><td>629</td><td>UA</td><td>150</td><td>LAX</td><td>PHL</td><td>2401</td><td>1</td><td>5.0</td><td>(19,[5],[1.0])</td><td>4.0</td><td>(290,[4],[1.0])</td><td>20.0</td><td>(290,[20],[1.0])</td><td>(604,[0,1,2,8,26,...</td><td>[0.13491794833866...</td><td>[0.53367841563992...</td><td>1.0</td></tr>\n",
       "<tr><td>1</td><td>1</td><td>2</td><td>56</td><td>2136</td><td>2300</td><td>NW</td><td>200</td><td>DTW</td><td>ALB</td><td>488</td><td>1</td><td>8.0</td><td>(19,[8],[1.0])</td><td>8.0</td><td>(290,[8],[1.0])</td><td>87.0</td><td>(290,[87],[1.0])</td><td>(604,[0,1,2,11,30...</td><td>[-0.2563287909355...</td><td>[0.43626638588705...</td><td>1.0</td></tr>\n",
       "<tr><td>1</td><td>1</td><td>2</td><td>124</td><td>40</td><td>612</td><td>NW</td><td>44</td><td>SFO</td><td>MSP</td><td>1589</td><td>1</td><td>8.0</td><td>(19,[8],[1.0])</td><td>13.0</td><td>(290,[13],[1.0])</td><td>12.0</td><td>(290,[12],[1.0])</td><td>(604,[0,1,2,11,35...</td><td>[0.88843744010547...</td><td>[0.70856760983635...</td><td>0.0</td></tr>\n",
       "<tr><td>1</td><td>1</td><td>2</td><td>437</td><td>435</td><td>620</td><td>B6</td><td>2</td><td>PSE</td><td>FLL</td><td>1032</td><td>0</td><td>15.0</td><td>(19,[15],[1.0])</td><td>249.0</td><td>(290,[249],[1.0])</td><td>28.0</td><td>(290,[28],[1.0])</td><td>(604,[0,1,2,18,27...</td><td>[0.75097413951651...</td><td>[0.67939092223999...</td><td>0.0</td></tr>\n",
       "<tr><td>1</td><td>1</td><td>2</td><td>536</td><td>540</td><td>702</td><td>OO</td><td>-4</td><td>TUS</td><td>SFO</td><td>751</td><td>0</td><td>2.0</td><td>(19,[2],[1.0])</td><td>57.0</td><td>(290,[57],[1.0])</td><td>13.0</td><td>(290,[13],[1.0])</td><td>(604,[0,1,2,5,79,...</td><td>[0.69427301459974...</td><td>[0.66691680504670...</td><td>0.0</td></tr>\n",
       "<tr><td>1</td><td>1</td><td>2</td><td>541</td><td>545</td><td>840</td><td>FL</td><td>-4</td><td>HOU</td><td>ATL</td><td>696</td><td>0</td><td>11.0</td><td>(19,[11],[1.0])</td><td>39.0</td><td>(290,[39],[1.0])</td><td>0.0</td><td>(290,[0],[1.0])</td><td>(604,[0,1,2,14,61...</td><td>[0.65772699235174...</td><td>[0.65874960412879...</td><td>0.0</td></tr>\n",
       "<tr><td>1</td><td>1</td><td>2</td><td>549</td><td>600</td><td>711</td><td>AS</td><td>-11</td><td>FAI</td><td>ANC</td><td>261</td><td>0</td><td>16.0</td><td>(19,[16],[1.0])</td><td>144.0</td><td>(290,[144],[1.0])</td><td>75.0</td><td>(290,[75],[1.0])</td><td>(604,[0,1,2,19,16...</td><td>[0.67142760797659...</td><td>[0.66182275077184...</td><td>0.0</td></tr>\n",
       "<tr><td>1</td><td>1</td><td>2</td><td>555</td><td>600</td><td>815</td><td>CO</td><td>-5</td><td>DTW</td><td>IAH</td><td>1076</td><td>0</td><td>9.0</td><td>(19,[9],[1.0])</td><td>8.0</td><td>(290,[8],[1.0])</td><td>6.0</td><td>(290,[6],[1.0])</td><td>(604,[0,1,2,12,30...</td><td>[0.64517775158515...</td><td>[0.65592295872483...</td><td>0.0</td></tr>\n",
       "<tr><td>1</td><td>1</td><td>2</td><td>556</td><td>600</td><td>702</td><td>UA</td><td>-4</td><td>IAD</td><td>ORD</td><td>589</td><td>0</td><td>5.0</td><td>(19,[5],[1.0])</td><td>27.0</td><td>(290,[27],[1.0])</td><td>1.0</td><td>(290,[1],[1.0])</td><td>(604,[0,1,2,8,49,...</td><td>[0.54159541429057...</td><td>[0.63218347365160...</td><td>0.0</td></tr>\n",
       "</table>\n",
       "only showing top 20 rows\n"
      ],
      "text/plain": [
       "+-----+----------+---------+-------+----------+----------+-------------+--------+------+----+--------+--------------+---------------------+-----------------+--------------+-----------------+------------+----------------+--------------------+--------------------+--------------------+----------+\n",
       "|Month|DayofMonth|DayOfWeek|DepTime|CRSDepTime|CRSArrTime|UniqueCarrier|DepDelay|Origin|Dest|Distance|Flight_Delayed|UniqueCarrier_Numeric|UniqueCarrier_OHE|Origin_Numeric|       Origin_OHE|Dest_Numeric|        Dest_OHE|            features|       rawPrediction|         probability|prediction|\n",
       "+-----+----------+---------+-------+----------+----------+-------------+--------+------+----+--------+--------------+---------------------+-----------------+--------------+-----------------+------------+----------------+--------------------+--------------------+--------------------+----------+\n",
       "|    1|         1|        2|      3|      2315|       717|           UA|      48|   OAK| IAD|    2408|             1|                  5.0|   (19,[5],[1.0])|          29.0| (290,[29],[1.0])|        27.0|(290,[27],[1.0])|(604,[0,1,2,8,51,...|[0.08184585473893...|[0.52045004915548...|       1.0|\n",
       "|    1|         1|        2|     11|      2107|        54|           UA|     184|   JFK| SFO|    2586|             1|                  5.0|   (19,[5],[1.0])|          15.0| (290,[15],[1.0])|        13.0|(290,[13],[1.0])|(604,[0,1,2,8,37,...|[0.32051114194380...|[0.57944881630406...|       0.0|\n",
       "|    1|         1|        2|     20|      2359|       118|           US|      21|   LAS| SAN|     258|             1|                  4.0|   (19,[4],[1.0])|           7.0|  (290,[7],[1.0])|        22.0|(290,[22],[1.0])|(604,[0,1,2,7,29,...|[0.25684113778473...|[0.56385961556870...|       0.0|\n",
       "|    1|         1|        2|     26|      2255|       135|           B6|      91|   FLL| JFK|    1069|             1|                 15.0|  (19,[15],[1.0])|          28.0| (290,[28],[1.0])|        16.0|(290,[16],[1.0])|(604,[0,1,2,18,50...|[0.24931787398027...|[0.56200859930905...|       0.0|\n",
       "|    1|         1|        2|     28|      2340|       727|           US|      48|   LAS| PHL|    2176|             1|                  4.0|   (19,[4],[1.0])|           7.0|  (290,[7],[1.0])|        20.0|(290,[20],[1.0])|(604,[0,1,2,7,29,...|[0.10964306815353...|[0.52738333989784...|       1.0|\n",
       "|    1|         1|        2|     29|      2145|      2230|           WN|     164|   TPA| PBI|     174|             1|                  0.0|   (19,[0],[1.0])|          25.0| (290,[25],[1.0])|        54.0|(290,[54],[1.0])|(604,[0,1,2,3,47,...|[-0.2417466860297...|[0.43985595241892...|       1.0|\n",
       "|    1|         1|        2|     33|        35|       603|           CO|      -2|   SFO| IAH|    1635|             0|                  9.0|   (19,[9],[1.0])|          13.0| (290,[13],[1.0])|         6.0| (290,[6],[1.0])|(604,[0,1,2,12,35...|[0.89242354432947...|[0.70939005372734...|       0.0|\n",
       "|    1|         1|        2|     33|      2125|      2330|           MQ|     188|   ORD| OKC|     693|             1|                  3.0|   (19,[3],[1.0])|           1.0|  (290,[1],[1.0])|        58.0|(290,[58],[1.0])|(604,[0,1,2,6,23,...|[-0.4578235676181...|[0.38750226094071...|       1.0|\n",
       "|    1|         1|        2|     37|        40|       753|           DL|      -3|   SEA| CVG|    1964|             0|                  6.0|   (19,[6],[1.0])|          19.0| (290,[19],[1.0])|        21.0|(290,[21],[1.0])|(604,[0,1,2,9,41,...|[0.85284869249785...|[0.70116437909894...|       0.0|\n",
       "|    1|         1|        2|     51|      2359|       756|           US|      52|   LAS| EWR|    2227|             1|                  4.0|   (19,[4],[1.0])|           7.0|  (290,[7],[1.0])|        10.0|(290,[10],[1.0])|(604,[0,1,2,7,29,...|[0.02723263280756...|[0.50680773747967...|       1.0|\n",
       "|    1|         1|        2|     53|        55|       624|           B6|      -2|   DEN| JFK|    1626|             0|                 15.0|  (19,[15],[1.0])|           3.0|  (290,[3],[1.0])|        16.0|(290,[16],[1.0])|(604,[0,1,2,18,25...|[0.88026516441299...|[0.70687716666108...|       0.0|\n",
       "|    1|         1|        2|     55|      2225|       629|           UA|     150|   LAX| PHL|    2401|             1|                  5.0|   (19,[5],[1.0])|           4.0|  (290,[4],[1.0])|        20.0|(290,[20],[1.0])|(604,[0,1,2,8,26,...|[0.13491794833866...|[0.53367841563992...|       1.0|\n",
       "|    1|         1|        2|     56|      2136|      2300|           NW|     200|   DTW| ALB|     488|             1|                  8.0|   (19,[8],[1.0])|           8.0|  (290,[8],[1.0])|        87.0|(290,[87],[1.0])|(604,[0,1,2,11,30...|[-0.2563287909355...|[0.43626638588705...|       1.0|\n",
       "|    1|         1|        2|    124|        40|       612|           NW|      44|   SFO| MSP|    1589|             1|                  8.0|   (19,[8],[1.0])|          13.0| (290,[13],[1.0])|        12.0|(290,[12],[1.0])|(604,[0,1,2,11,35...|[0.88843744010547...|[0.70856760983635...|       0.0|\n",
       "|    1|         1|        2|    437|       435|       620|           B6|       2|   PSE| FLL|    1032|             0|                 15.0|  (19,[15],[1.0])|         249.0|(290,[249],[1.0])|        28.0|(290,[28],[1.0])|(604,[0,1,2,18,27...|[0.75097413951651...|[0.67939092223999...|       0.0|\n",
       "|    1|         1|        2|    536|       540|       702|           OO|      -4|   TUS| SFO|     751|             0|                  2.0|   (19,[2],[1.0])|          57.0| (290,[57],[1.0])|        13.0|(290,[13],[1.0])|(604,[0,1,2,5,79,...|[0.69427301459974...|[0.66691680504670...|       0.0|\n",
       "|    1|         1|        2|    541|       545|       840|           FL|      -4|   HOU| ATL|     696|             0|                 11.0|  (19,[11],[1.0])|          39.0| (290,[39],[1.0])|         0.0| (290,[0],[1.0])|(604,[0,1,2,14,61...|[0.65772699235174...|[0.65874960412879...|       0.0|\n",
       "|    1|         1|        2|    549|       600|       711|           AS|     -11|   FAI| ANC|     261|             0|                 16.0|  (19,[16],[1.0])|         144.0|(290,[144],[1.0])|        75.0|(290,[75],[1.0])|(604,[0,1,2,19,16...|[0.67142760797659...|[0.66182275077184...|       0.0|\n",
       "|    1|         1|        2|    555|       600|       815|           CO|      -5|   DTW| IAH|    1076|             0|                  9.0|   (19,[9],[1.0])|           8.0|  (290,[8],[1.0])|         6.0| (290,[6],[1.0])|(604,[0,1,2,12,30...|[0.64517775158515...|[0.65592295872483...|       0.0|\n",
       "|    1|         1|        2|    556|       600|       702|           UA|      -4|   IAD| ORD|     589|             0|                  5.0|   (19,[5],[1.0])|          27.0| (290,[27],[1.0])|         1.0| (290,[1],[1.0])|(604,[0,1,2,8,49,...|[0.54159541429057...|[0.63218347365160...|       0.0|\n",
       "+-----+----------+---------+-------+----------+----------+-------------+--------+------+----+--------+--------------+---------------------+-----------------+--------------+-----------------+------------+----------------+--------------------+--------------------+--------------------+----------+\n",
       "only showing top 20 rows"
      ]
     },
     "execution_count": 17,
     "metadata": {},
     "output_type": "execute_result"
    }
   ],
   "source": [
    "# our prediction  using testing dataset \n",
    "\n",
    "lr_transform"
   ]
  },
  {
   "cell_type": "markdown",
   "id": "3e9a1dc5",
   "metadata": {},
   "source": [
    "# Random Forest Model "
   ]
  },
  {
   "cell_type": "code",
   "execution_count": 21,
   "id": "e9b0519f",
   "metadata": {},
   "outputs": [
    {
     "name": "stderr",
     "output_type": "stream",
     "text": [
      "                                                                                \r"
     ]
    }
   ],
   "source": [
    "# Fitting a random forest model\n",
    "rf = RandomForestClassifier(featuresCol='features', labelCol='Flight_Delayed')\n",
    "rf_pipeline = Pipeline(stages=[va, rf])\n",
    "rf_model = rf_pipeline.fit(combined_df_2)\n",
    "rf_transform = rf_model.transform(testing_df)\n",
    "\n",
    "#Random Forest metric evaluation\n",
    "\n",
    "#AUC score\n",
    "rf_bce = BinaryClassificationEvaluator(labelCol=\"Flight_Delayed\", metricName='areaUnderROC')\n",
    "score_auc=rf_bce.evaluate(rf_transform)\n",
    "\n",
    "#Recall\n",
    "rf_evaluator_recall = evaluation.MulticlassClassificationEvaluator(labelCol=\"Flight_Delayed\", metricName=\"weightedRecall\")\n",
    "score_recall=rf_evaluator_recall.evaluate(rf_transform)\n",
    "\n",
    "#Precision\n",
    "rf_evaluator_precision = evaluation.MulticlassClassificationEvaluator(labelCol=\"Flight_Delayed\", metricName=\"weightedPrecision\")\n",
    "score_precision=rf_evaluator_precision.evaluate(rf_transform)\n",
    "\n",
    "#accuracy\n",
    "rf_evaluator_accuracy = evaluation.MulticlassClassificationEvaluator(labelCol=\"Flight_Delayed\", metricName=\"accuracy\")\n",
    "score_accuracy=rf_evaluator_accuracy.evaluate(rf_transform)\n",
    "\n",
    "#f1 \n",
    "rf_evaluator_accuracy = evaluation.MulticlassClassificationEvaluator(labelCol=\"Flight_Delayed\", metricName=\"f1\")\n",
    "score_f1=rf_evaluator_accuracy.evaluate(rf_transform)\n"
   ]
  },
  {
   "cell_type": "code",
   "execution_count": 22,
   "id": "816140db",
   "metadata": {},
   "outputs": [
    {
     "data": {
      "text/html": [
       "<div>\n",
       "<style scoped>\n",
       "    .dataframe tbody tr th:only-of-type {\n",
       "        vertical-align: middle;\n",
       "    }\n",
       "\n",
       "    .dataframe tbody tr th {\n",
       "        vertical-align: top;\n",
       "    }\n",
       "\n",
       "    .dataframe thead th {\n",
       "        text-align: right;\n",
       "    }\n",
       "</style>\n",
       "<table border=\"1\" class=\"dataframe\">\n",
       "  <thead>\n",
       "    <tr style=\"text-align: right;\">\n",
       "      <th></th>\n",
       "      <th>Metric Name</th>\n",
       "      <th>Score</th>\n",
       "    </tr>\n",
       "  </thead>\n",
       "  <tbody>\n",
       "    <tr>\n",
       "      <th>1</th>\n",
       "      <td>AUC</td>\n",
       "      <td>0.660715</td>\n",
       "    </tr>\n",
       "    <tr>\n",
       "      <th>2</th>\n",
       "      <td>Recall</td>\n",
       "      <td>0.770047</td>\n",
       "    </tr>\n",
       "    <tr>\n",
       "      <th>3</th>\n",
       "      <td>Balanced Accuracy</td>\n",
       "      <td>0.770047</td>\n",
       "    </tr>\n",
       "    <tr>\n",
       "      <th>4</th>\n",
       "      <td>f1</td>\n",
       "      <td>0.723754</td>\n",
       "    </tr>\n",
       "    <tr>\n",
       "      <th>5</th>\n",
       "      <td>Precision</td>\n",
       "      <td>0.714401</td>\n",
       "    </tr>\n",
       "  </tbody>\n",
       "</table>\n",
       "</div>"
      ],
      "text/plain": [
       "         Metric Name     Score\n",
       "1                AUC  0.660715\n",
       "2             Recall  0.770047\n",
       "3  Balanced Accuracy  0.770047\n",
       "4                 f1  0.723754\n",
       "5          Precision  0.714401"
      ]
     },
     "execution_count": 22,
     "metadata": {},
     "output_type": "execute_result"
    }
   ],
   "source": [
    "\n",
    "# dataframe with all the metrics of random forest model\n",
    "scores = [score_auc, score_recall, score_accuracy, score_f1, score_precision]\n",
    "metricName = ['AUC', 'Recall', 'Balanced Accuracy', 'f1', 'Precision']\n",
    "metric_df = pd.DataFrame(zip(metricName,scores),index=[1,2,3,4,5],columns=['Metric Name', 'Score'])\n",
    "metric_df.head(5)"
   ]
  },
  {
   "cell_type": "code",
   "execution_count": null,
   "id": "e3fc8cad",
   "metadata": {},
   "outputs": [],
   "source": []
  },
  {
   "cell_type": "code",
   "execution_count": null,
   "id": "d0e122ee",
   "metadata": {},
   "outputs": [],
   "source": []
  },
  {
   "cell_type": "code",
   "execution_count": null,
   "id": "72f0b020",
   "metadata": {},
   "outputs": [],
   "source": []
  }
 ],
 "metadata": {
  "kernelspec": {
   "display_name": "Python [conda env:bigdata]",
   "language": "python",
   "name": "conda-env-bigdata-py"
  },
  "language_info": {
   "codemirror_mode": {
    "name": "ipython",
    "version": 3
   },
   "file_extension": ".py",
   "mimetype": "text/x-python",
   "name": "python",
   "nbconvert_exporter": "python",
   "pygments_lexer": "ipython3",
   "version": "3.8.13"
  }
 },
 "nbformat": 4,
 "nbformat_minor": 5
}
